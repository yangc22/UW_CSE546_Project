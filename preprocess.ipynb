{
 "cells": [
  {
   "cell_type": "code",
   "execution_count": 1,
   "metadata": {
    "collapsed": true
   },
   "outputs": [],
   "source": [
    "import pandas as pd\n",
    "import numpy as np"
   ]
  },
  {
   "cell_type": "code",
   "execution_count": 8,
   "metadata": {},
   "outputs": [],
   "source": [
    "df = pd.read_csv('Schedule1718.csv')\n",
    "del data"
   ]
  },
  {
   "cell_type": "code",
   "execution_count": 9,
   "metadata": {},
   "outputs": [
    {
     "name": "stdout",
     "output_type": "stream",
     "text": [
      "                 Date Start (ET)         Visitor/Neutral  PTS  \\\n",
      "0     Tue Oct 17 2017      8:01p          Boston Celtics   99   \n",
      "1     Tue Oct 17 2017     10:30p         Houston Rockets  122   \n",
      "2     Wed Oct 18 2017      7:30p         Milwaukee Bucks  108   \n",
      "3     Wed Oct 18 2017      8:30p           Atlanta Hawks  117   \n",
      "4     Wed Oct 18 2017      7:00p       Charlotte Hornets   90   \n",
      "5     Wed Oct 18 2017      7:00p           Brooklyn Nets  131   \n",
      "6     Wed Oct 18 2017      8:00p    New Orleans Pelicans   91   \n",
      "7     Wed Oct 18 2017      7:00p              Miami Heat  109   \n",
      "8     Wed Oct 18 2017     10:00p  Portland Trail Blazers  124   \n",
      "9     Wed Oct 18 2017     10:00p         Houston Rockets  105   \n",
      "10    Wed Oct 18 2017      9:30p  Minnesota Timberwolves   99   \n",
      "11    Wed Oct 18 2017      9:00p          Denver Nuggets   96   \n",
      "12    Wed Oct 18 2017      7:00p      Philadelphia 76ers  115   \n",
      "13    Thu Oct 19 2017     10:30p    Los Angeles Clippers  108   \n",
      "14    Thu Oct 19 2017      8:00p         New York Knicks   84   \n",
      "15    Thu Oct 19 2017      7:30p           Chicago Bulls  100   \n",
      "16    Fri Oct 20 2017      7:30p           Orlando Magic  121   \n",
      "17    Fri Oct 20 2017      7:00p           Atlanta Hawks   91   \n",
      "18    Fri Oct 20 2017      8:30p        Sacramento Kings   93   \n",
      "19    Fri Oct 20 2017      7:00p  Portland Trail Blazers  114   \n",
      "20    Fri Oct 20 2017      7:00p     Cleveland Cavaliers  116   \n",
      "21    Fri Oct 20 2017      8:00p               Utah Jazz   97   \n",
      "22    Fri Oct 20 2017      9:30p   Golden State Warriors  128   \n",
      "23    Fri Oct 20 2017      7:00p          Boston Celtics  102   \n",
      "24    Fri Oct 20 2017     10:00p      Los Angeles Lakers  132   \n",
      "25    Fri Oct 20 2017      7:00p         Detroit Pistons  111   \n",
      "26    Sat Oct 21 2017      8:00p       San Antonio Spurs   87   \n",
      "27    Sat Oct 21 2017      8:00p           Orlando Magic  114   \n",
      "28    Sat Oct 21 2017      9:00p        Sacramento Kings   79   \n",
      "29    Sat Oct 21 2017      8:00p        Dallas Mavericks   91   \n",
      "...               ...        ...                     ...  ...   \n",
      "1200   Sun Apr 8 2018      1:00p        Dallas Mavericks   97   \n",
      "1201   Sun Apr 8 2018      9:00p   Golden State Warriors  117   \n",
      "1202   Sun Apr 8 2018      6:00p           Orlando Magic  101   \n",
      "1203   Mon Apr 9 2018      7:30p           Chicago Bulls  105   \n",
      "1204   Mon Apr 9 2018      9:00p  Portland Trail Blazers   82   \n",
      "1205   Mon Apr 9 2018      7:00p         Toronto Raptors  108   \n",
      "1206   Mon Apr 9 2018     10:30p    New Orleans Pelicans  113   \n",
      "1207   Mon Apr 9 2018      7:30p   Oklahoma City Thunder  115   \n",
      "1208   Mon Apr 9 2018      8:00p           Orlando Magic   86   \n",
      "1209   Mon Apr 9 2018      8:00p       Memphis Grizzlies   94   \n",
      "1210   Mon Apr 9 2018      7:30p     Cleveland Cavaliers  123   \n",
      "1211   Mon Apr 9 2018      8:30p        Sacramento Kings   85   \n",
      "1212  Tue Apr 10 2018      7:30p      Philadelphia 76ers  121   \n",
      "1213  Tue Apr 10 2018      8:30p            Phoenix Suns  124   \n",
      "1214  Tue Apr 10 2018      7:00p       Charlotte Hornets  119   \n",
      "1215  Tue Apr 10 2018     10:30p         Houston Rockets  105   \n",
      "1216  Tue Apr 10 2018      9:00p   Golden State Warriors   79   \n",
      "1217  Tue Apr 10 2018      8:00p          Boston Celtics  101   \n",
      "1218  Wed Apr 11 2018      8:00p           Brooklyn Nets   97   \n",
      "1219  Wed Apr 11 2018      8:00p         Detroit Pistons  119   \n",
      "1220  Wed Apr 11 2018      8:00p         New York Knicks  110   \n",
      "1221  Wed Apr 11 2018     10:30p      Los Angeles Lakers  115   \n",
      "1222  Wed Apr 11 2018      8:00p         Toronto Raptors  109   \n",
      "1223  Wed Apr 11 2018      8:00p          Denver Nuggets  106   \n",
      "1224  Wed Apr 11 2018      8:00p       San Antonio Spurs   98   \n",
      "1225  Wed Apr 11 2018      8:00p       Memphis Grizzlies  123   \n",
      "1226  Wed Apr 11 2018      8:00p      Washington Wizards   92   \n",
      "1227  Wed Apr 11 2018      8:00p         Milwaukee Bucks   95   \n",
      "1228  Wed Apr 11 2018     10:30p               Utah Jazz   93   \n",
      "1229  Wed Apr 11 2018     10:30p         Houston Rockets   83   \n",
      "\n",
      "                Home/Neutral  PTS.1 Unnamed: 6 Unnamed: 7  Attend. Notes  \n",
      "0        Cleveland Cavaliers    102  Box Score        NaN    20562   NaN  \n",
      "1      Golden State Warriors    121  Box Score        NaN    19596   NaN  \n",
      "2             Boston Celtics    100  Box Score        NaN    18624   NaN  \n",
      "3           Dallas Mavericks    111  Box Score        NaN    19709   NaN  \n",
      "4            Detroit Pistons    102  Box Score        NaN    20491   NaN  \n",
      "5             Indiana Pacers    140  Box Score        NaN    15008   NaN  \n",
      "6          Memphis Grizzlies    103  Box Score        NaN    17794   NaN  \n",
      "7              Orlando Magic    116  Box Score        NaN    18846   NaN  \n",
      "8               Phoenix Suns     76  Box Score        NaN    18055   NaN  \n",
      "9           Sacramento Kings    100  Box Score        NaN    17583   NaN  \n",
      "10         San Antonio Spurs    107  Box Score        NaN    18418   NaN  \n",
      "11                 Utah Jazz    106  Box Score        NaN    17588   NaN  \n",
      "12        Washington Wizards    120  Box Score        NaN    20356   NaN  \n",
      "13        Los Angeles Lakers     92  Box Score        NaN    18997   NaN  \n",
      "14     Oklahoma City Thunder    105  Box Score        NaN    18203   NaN  \n",
      "15           Toronto Raptors    117  Box Score        NaN    19800   NaN  \n",
      "16             Brooklyn Nets    126  Box Score        NaN    16144   NaN  \n",
      "17         Charlotte Hornets    109  Box Score        NaN    18417   NaN  \n",
      "18          Dallas Mavericks     88  Box Score        NaN    19273   NaN  \n",
      "19            Indiana Pacers     96  Box Score        NaN    15325   NaN  \n",
      "20           Milwaukee Bucks     97  Box Score        NaN    18717   NaN  \n",
      "21    Minnesota Timberwolves    100  Box Score        NaN    18978   NaN  \n",
      "22      New Orleans Pelicans    120  Box Score        NaN    18171   NaN  \n",
      "23        Philadelphia 76ers     92  Box Score        NaN    20816   NaN  \n",
      "24              Phoenix Suns    130  Box Score        NaN    18055   NaN  \n",
      "25        Washington Wizards    115  Box Score        NaN    16337   NaN  \n",
      "26             Chicago Bulls     77  Box Score        NaN    21640   NaN  \n",
      "27       Cleveland Cavaliers     93  Box Score        NaN    20562   NaN  \n",
      "28            Denver Nuggets     96  Box Score        NaN    19520   NaN  \n",
      "29           Houston Rockets    107  Box Score        NaN    18055   NaN  \n",
      "...                      ...    ...        ...        ...      ...   ...  \n",
      "1200      Philadelphia 76ers    109  Box Score        NaN    20846   NaN  \n",
      "1201            Phoenix Suns    100  Box Score        NaN    18055   NaN  \n",
      "1202         Toronto Raptors    112  Box Score        NaN    19948   NaN  \n",
      "1203           Brooklyn Nets    114  Box Score        NaN    16187   NaN  \n",
      "1204          Denver Nuggets     88  Box Score        NaN    17467   NaN  \n",
      "1205         Detroit Pistons     98  Box Score        NaN    17529   NaN  \n",
      "1206    Los Angeles Clippers    100  Box Score        NaN    15742   NaN  \n",
      "1207              Miami Heat     93  Box Score        NaN    19600   NaN  \n",
      "1208         Milwaukee Bucks    102  Box Score        NaN    18717   NaN  \n",
      "1209  Minnesota Timberwolves    113  Box Score        NaN    17641   NaN  \n",
      "1210         New York Knicks    109  Box Score        NaN    19449   NaN  \n",
      "1211       San Antonio Spurs     98  Box Score        NaN    18418   NaN  \n",
      "1212           Atlanta Hawks    113  Box Score        NaN    15673   NaN  \n",
      "1213        Dallas Mavericks     97  Box Score        NaN    20041   NaN  \n",
      "1214          Indiana Pacers     93  Box Score        NaN    17331   NaN  \n",
      "1215      Los Angeles Lakers     99  Box Score        NaN    18997   NaN  \n",
      "1216               Utah Jazz    119  Box Score        NaN    18306   NaN  \n",
      "1217      Washington Wizards    113  Box Score        NaN    18887   NaN  \n",
      "1218          Boston Celtics    110  Box Score        NaN    18624   NaN  \n",
      "1219           Chicago Bulls     87  Box Score        NaN    21342   NaN  \n",
      "1220     Cleveland Cavaliers     98  Box Score        NaN    20562   NaN  \n",
      "1221    Los Angeles Clippers    100  Box Score        NaN    19068   NaN  \n",
      "1222              Miami Heat    116  Box Score         OT    19600   NaN  \n",
      "1223  Minnesota Timberwolves    112  Box Score         OT    18978   NaN  \n",
      "1224    New Orleans Pelicans    122  Box Score        NaN    18573   NaN  \n",
      "1225   Oklahoma City Thunder    137  Box Score        NaN    18203   NaN  \n",
      "1226           Orlando Magic    101  Box Score        NaN    17598   NaN  \n",
      "1227      Philadelphia 76ers    130  Box Score        NaN    20659   NaN  \n",
      "1228  Portland Trail Blazers    102  Box Score        NaN    20186   NaN  \n",
      "1229        Sacramento Kings     96  Box Score        NaN    17583   NaN  \n",
      "\n",
      "[1230 rows x 10 columns]\n"
     ]
    }
   ],
   "source": [
    "print(df)"
   ]
  },
  {
   "cell_type": "code",
   "execution_count": 13,
   "metadata": {},
   "outputs": [],
   "source": [
    "wining_team = []\n",
    "losing_team = []\n",
    "field = []\n",
    "for index, row in df.iterrows():\n",
    "    if (row['PTS.1'] > row['PTS']):\n",
    "        wining_team.append(row['Home/Neutral'])\n",
    "        losing_team.append(row['Visitor/Neutral'])\n",
    "        field.append('H')\n",
    "    else:\n",
    "        wining_team.append(row['Visitor/Neutral'])\n",
    "        losing_team.append(row['Home/Neutral'])\n",
    "        field.append('V')"
   ]
  },
  {
   "cell_type": "code",
   "execution_count": 16,
   "metadata": {},
   "outputs": [
    {
     "name": "stdout",
     "output_type": "stream",
     "text": [
      "['Cleveland Cavaliers', 'Houston Rockets', 'Milwaukee Bucks', 'Atlanta Hawks', 'Detroit Pistons', 'Indiana Pacers', 'Memphis Grizzlies', 'Orlando Magic', 'Portland Trail Blazers', 'Houston Rockets', 'San Antonio Spurs', 'Utah Jazz', 'Washington Wizards', 'Los Angeles Clippers', 'Oklahoma City Thunder', 'Toronto Raptors', 'Brooklyn Nets', 'Charlotte Hornets', 'Sacramento Kings', 'Portland Trail Blazers', 'Cleveland Cavaliers', 'Minnesota Timberwolves', 'Golden State Warriors', 'Boston Celtics', 'Los Angeles Lakers', 'Washington Wizards', 'San Antonio Spurs', 'Orlando Magic', 'Denver Nuggets', 'Houston Rockets', 'Los Angeles Clippers', 'Memphis Grizzlies', 'Miami Heat', 'Milwaukee Bucks', 'Detroit Pistons', 'Toronto Raptors', 'Utah Jazz', 'Brooklyn Nets', 'New Orleans Pelicans', 'Minnesota Timberwolves', 'Golden State Warriors', 'Washington Wizards', 'Philadelphia 76ers', 'Memphis Grizzlies', 'Miami Heat', 'Milwaukee Bucks', 'Phoenix Suns', 'San Antonio Spurs', 'Boston Celtics', 'Cleveland Cavaliers', 'Los Angeles Clippers', 'Indiana Pacers', 'Orlando Magic', 'Portland Trail Blazers', 'Brooklyn Nets', 'Charlotte Hornets', 'Dallas Mavericks', 'Detroit Pistons', 'Golden State Warriors', 'Los Angeles Lakers', 'San Antonio Spurs', 'Oklahoma City Thunder', 'Houston Rockets', 'Phoenix Suns', 'Chicago Bulls', 'Memphis Grizzlies', 'Boston Celtics', 'Los Angeles Clippers', 'New Orleans Pelicans', 'Denver Nuggets', 'Houston Rockets', 'Golden State Warriors', 'Toronto Raptors', 'Minnesota Timberwolves', 'New York Knicks', 'Orlando Magic', 'Oklahoma City Thunder', 'Philadelphia 76ers', 'Detroit Pistons', 'Memphis Grizzlies', 'Boston Celtics', 'New Orleans Pelicans', 'Portland Trail Blazers', 'Utah Jazz', 'Milwaukee Bucks', 'Denver Nuggets', 'Charlotte Hornets', 'New York Knicks', 'Detroit Pistons', 'Indiana Pacers', 'Washington Wizards', 'Boston Celtics', 'Philadelphia 76ers', 'Golden State Warriors', 'Charlotte Hornets', 'Minnesota Timberwolves', 'Orlando Magic', 'New York Knicks', 'Toronto Raptors', 'Utah Jazz', 'Phoenix Suns', 'Indiana Pacers', 'Los Angeles Lakers', 'Oklahoma City Thunder', 'Boston Celtics', 'Charlotte Hornets', 'Indiana Pacers', 'Denver Nuggets', 'Los Angeles Clippers', 'Orlando Magic', 'Miami Heat', 'Minnesota Timberwolves', 'Houston Rockets', 'Philadelphia 76ers', 'Utah Jazz', 'Phoenix Suns', 'Portland Trail Blazers', 'Golden State Warriors', 'Houston Rockets', 'New Orleans Pelicans', 'Denver Nuggets', 'Detroit Pistons', 'Los Angeles Lakers', 'New York Knicks', 'Boston Celtics', 'Chicago Bulls', 'Philadelphia 76ers', 'San Antonio Spurs', 'Toronto Raptors', 'Cleveland Cavaliers', 'New Orleans Pelicans', 'Golden State Warriors', 'Detroit Pistons', 'Memphis Grizzlies', 'Minnesota Timberwolves', 'Atlanta Hawks', 'Houston Rockets', 'Miami Heat', 'Los Angeles Lakers', 'Minnesota Timberwolves', 'New York Knicks', 'Boston Celtics', 'Portland Trail Blazers', 'San Antonio Spurs', 'Washington Wizards', 'Boston Celtics', 'Golden State Warriors', 'Brooklyn Nets', 'Cleveland Cavaliers', 'Denver Nuggets', 'New Orleans Pelicans', 'New York Knicks', 'Memphis Grizzlies', 'Sacramento Kings', 'San Antonio Spurs', 'Toronto Raptors', 'Philadelphia 76ers', 'Dallas Mavericks', 'Boston Celtics', 'Detroit Pistons', 'Golden State Warriors', 'Orlando Magic', 'Miami Heat', 'Denver Nuggets', 'Houston Rockets', 'Sacramento Kings', 'Toronto Raptors', 'Washington Wizards', 'Boston Celtics', 'Indiana Pacers', 'Detroit Pistons', 'Oklahoma City Thunder', 'Orlando Magic', 'Brooklyn Nets', 'Milwaukee Bucks', 'Miami Heat', 'Cleveland Cavaliers', 'Denver Nuggets', 'Golden State Warriors', 'Houston Rockets', 'Milwaukee Bucks', 'New Orleans Pelicans', 'New York Knicks', 'Phoenix Suns', 'San Antonio Spurs', 'Utah Jazz', 'Washington Wizards', 'Boston Celtics', 'Detroit Pistons', 'Houston Rockets', 'Oklahoma City Thunder', 'Golden State Warriors', 'Philadelphia 76ers', 'Milwaukee Bucks', 'New Orleans Pelicans', 'Cleveland Cavaliers', 'Los Angeles Lakers', 'Portland Trail Blazers', 'Minnesota Timberwolves', 'Washington Wizards', 'Boston Celtics', 'San Antonio Spurs', 'Toronto Raptors', 'Atlanta Hawks', 'Cleveland Cavaliers', 'Philadelphia 76ers', 'Indiana Pacers', 'Washington Wizards', 'Milwaukee Bucks', 'Minnesota Timberwolves', 'Toronto Raptors', 'New York Knicks', 'Oklahoma City Thunder', 'Portland Trail Blazers', 'Boston Celtics', 'Houston Rockets', 'Brooklyn Nets', 'Chicago Bulls', 'Cleveland Cavaliers', 'Minnesota Timberwolves', 'Denver Nuggets', 'Indiana Pacers', 'Phoenix Suns', 'Sacramento Kings', 'San Antonio Spurs', 'Toronto Raptors', 'Miami Heat', 'Boston Celtics', 'Charlotte Hornets', 'Dallas Mavericks', 'Houston Rockets', 'Utah Jazz', 'Golden State Warriors', 'Portland Trail Blazers', 'Golden State Warriors', 'Los Angeles Lakers', 'Indiana Pacers', 'Detroit Pistons', 'Phoenix Suns', 'Toronto Raptors', 'Charlotte Hornets', 'Boston Celtics', 'Cleveland Cavaliers', 'Portland Trail Blazers', 'Washington Wizards', 'New Orleans Pelicans', 'New York Knicks', 'Indiana Pacers', 'Philadelphia 76ers', 'Denver Nuggets', 'San Antonio Spurs', 'Los Angeles Lakers', 'Los Angeles Clippers', 'Charlotte Hornets', 'Cleveland Cavaliers', 'Houston Rockets', 'Dallas Mavericks', 'Miami Heat', 'Minnesota Timberwolves', 'New Orleans Pelicans', 'New York Knicks', 'Oklahoma City Thunder', 'Philadelphia 76ers', 'Milwaukee Bucks', 'Sacramento Kings', 'Utah Jazz', 'Atlanta Hawks', 'Boston Celtics', 'Portland Trail Blazers', 'Cleveland Cavaliers', 'Denver Nuggets', 'Golden State Warriors', 'Indiana Pacers', 'Miami Heat', 'Detroit Pistons', 'New Orleans Pelicans', 'Toronto Raptors', 'San Antonio Spurs', 'Dallas Mavericks', 'Golden State Warriors', 'Houston Rockets', 'Boston Celtics', 'Philadelphia 76ers', 'Los Angeles Clippers', 'Utah Jazz', 'Portland Trail Blazers', 'Miami Heat', 'Brooklyn Nets', 'Minnesota Timberwolves', 'Detroit Pistons', 'Sacramento Kings', 'Houston Rockets', 'Indiana Pacers', 'Los Angeles Clippers', 'Portland Trail Blazers', 'Cleveland Cavaliers', 'San Antonio Spurs', 'Phoenix Suns', 'Cleveland Cavaliers', 'Washington Wizards', 'Milwaukee Bucks', 'Utah Jazz', 'Brooklyn Nets', 'Detroit Pistons', 'Houston Rockets', 'Golden State Warriors', 'Minnesota Timberwolves', 'New York Knicks', 'Orlando Magic', 'Philadelphia 76ers', 'San Antonio Spurs', 'Toronto Raptors', 'Cleveland Cavaliers', 'Boston Celtics', 'Denver Nuggets', 'Utah Jazz', 'Milwaukee Bucks', 'Sacramento Kings', 'San Antonio Spurs', 'Miami Heat', 'Oklahoma City Thunder', 'Golden State Warriors', 'Toronto Raptors', 'Utah Jazz', 'Washington Wizards', 'Boston Celtics', 'Atlanta Hawks', 'Cleveland Cavaliers', 'Dallas Mavericks', 'Denver Nuggets', 'Milwaukee Bucks', 'Philadelphia 76ers', 'New Orleans Pelicans', 'Houston Rockets', 'Golden State Warriors', 'Minnesota Timberwolves', 'Orlando Magic', 'Oklahoma City Thunder', 'Brooklyn Nets', 'Boston Celtics', 'Cleveland Cavaliers', 'Charlotte Hornets', 'Dallas Mavericks', 'Indiana Pacers', 'Memphis Grizzlies', 'Golden State Warriors', 'Phoenix Suns', 'San Antonio Spurs', 'Utah Jazz', 'Oklahoma City Thunder', 'Washington Wizards', 'Toronto Raptors', 'Boston Celtics', 'Golden State Warriors', 'Cleveland Cavaliers', 'Indiana Pacers', 'Minnesota Timberwolves', 'Milwaukee Bucks', 'New Orleans Pelicans', 'New York Knicks', 'Orlando Magic', 'San Antonio Spurs', 'Brooklyn Nets', 'Los Angeles Lakers', 'Washington Wizards', 'Houston Rockets', 'Chicago Bulls', 'Golden State Warriors', 'Indiana Pacers', 'Toronto Raptors', 'Milwaukee Bucks', 'Sacramento Kings', 'Denver Nuggets', 'San Antonio Spurs', 'Atlanta Hawks', 'Miami Heat', 'Chicago Bulls', 'Los Angeles Lakers', 'Cleveland Cavaliers', 'Los Angeles Clippers', 'Oklahoma City Thunder', 'Milwaukee Bucks', 'San Antonio Spurs', 'Houston Rockets', 'Boston Celtics', 'Indiana Pacers', 'Minnesota Timberwolves', 'New Orleans Pelicans', 'New York Knicks', 'Toronto Raptors', 'Chicago Bulls', 'Golden State Warriors', 'Houston Rockets', 'Los Angeles Clippers', 'Miami Heat', 'Charlotte Hornets', 'Brooklyn Nets', 'Cleveland Cavaliers', 'Dallas Mavericks', 'Denver Nuggets', 'Philadelphia 76ers', 'New York Knicks', 'Sacramento Kings', 'Boston Celtics', 'Chicago Bulls', 'Houston Rockets', 'Oklahoma City Thunder', 'Portland Trail Blazers', 'New Orleans Pelicans', 'Los Angeles Clippers', 'Toronto Raptors', 'Washington Wizards', 'Detroit Pistons', 'New York Knicks', 'Cleveland Cavaliers', 'Golden State Warriors', 'Minnesota Timberwolves', 'Utah Jazz', 'Miami Heat', 'Denver Nuggets', 'Houston Rockets', 'Detroit Pistons', 'Memphis Grizzlies', 'Chicago Bulls', 'Portland Trail Blazers', 'Oklahoma City Thunder', 'Toronto Raptors', 'Washington Wizards', 'Portland Trail Blazers', 'Cleveland Cavaliers', 'Houston Rockets', 'Boston Celtics', 'Miami Heat', 'Phoenix Suns', 'New York Knicks', 'San Antonio Spurs', 'Indiana Pacers', 'Detroit Pistons', 'Toronto Raptors', 'Cleveland Cavaliers', 'Atlanta Hawks', 'Chicago Bulls', 'Charlotte Hornets', 'Phoenix Suns', 'Houston Rockets', 'Boston Celtics', 'Golden State Warriors', 'Minnesota Timberwolves', 'Oklahoma City Thunder', 'San Antonio Spurs', 'Milwaukee Bucks', 'Sacramento Kings', 'Washington Wizards', 'Indiana Pacers', 'Miami Heat', 'Sacramento Kings', 'Chicago Bulls', 'Toronto Raptors', 'Dallas Mavericks', 'Minnesota Timberwolves', 'Golden State Warriors', 'Los Angeles Lakers', 'Los Angeles Clippers', 'Oklahoma City Thunder', 'San Antonio Spurs', 'Cleveland Cavaliers', 'New York Knicks', 'Toronto Raptors', 'Phoenix Suns', 'Utah Jazz', 'Brooklyn Nets', 'Detroit Pistons', 'Golden State Warriors', 'Los Angeles Clippers', 'Miami Heat', 'Milwaukee Bucks', 'Oklahoma City Thunder', 'New Orleans Pelicans', 'Denver Nuggets', 'Atlanta Hawks', 'Boston Celtics', 'Charlotte Hornets', 'Denver Nuggets', 'Indiana Pacers', 'Portland Trail Blazers', 'Memphis Grizzlies', 'New Orleans Pelicans', 'Minnesota Timberwolves', 'San Antonio Spurs', 'Toronto Raptors', 'Oklahoma City Thunder', 'Washington Wizards', 'Washington Wizards', 'Golden State Warriors', 'Minnesota Timberwolves', 'Philadelphia 76ers', 'Oklahoma City Thunder', 'Dallas Mavericks', 'Denver Nuggets', 'Detroit Pistons', 'Los Angeles Clippers', 'Miami Heat', 'Chicago Bulls', 'Phoenix Suns', 'San Antonio Spurs', 'Atlanta Hawks', 'Chicago Bulls', 'Boston Celtics', 'Golden State Warriors', 'Dallas Mavericks', 'Memphis Grizzlies', 'Minnesota Timberwolves', 'New Orleans Pelicans', 'Oklahoma City Thunder', 'Sacramento Kings', 'Boston Celtics', 'Milwaukee Bucks', 'Orlando Magic', 'Portland Trail Blazers', 'San Antonio Spurs', 'Chicago Bulls', 'Charlotte Hornets', 'Los Angeles Clippers', 'Brooklyn Nets', 'Dallas Mavericks', 'Milwaukee Bucks', 'Phoenix Suns', 'Toronto Raptors', 'Washington Wizards', 'Atlanta Hawks', 'Philadelphia 76ers', 'Detroit Pistons', 'Golden State Warriors', 'New York Knicks', 'Miami Heat', 'Utah Jazz', 'Boston Celtics', 'Houston Rockets', 'Minnesota Timberwolves', 'Los Angeles Clippers', 'Dallas Mavericks', 'Philadelphia 76ers', 'Memphis Grizzlies', 'Washington Wizards', 'Brooklyn Nets', 'Portland Trail Blazers', 'Minnesota Timberwolves', 'Toronto Raptors', 'Cleveland Cavaliers', 'Los Angeles Clippers', 'San Antonio Spurs', 'Phoenix Suns', 'Charlotte Hornets', 'Boston Celtics', 'Brooklyn Nets', 'Toronto Raptors', 'Golden State Warriors', 'Denver Nuggets', 'Oklahoma City Thunder', 'Miami Heat', 'Milwaukee Bucks', 'Houston Rockets', 'Philadelphia 76ers', 'New Orleans Pelicans', 'Washington Wizards', 'Golden State Warriors', 'Oklahoma City Thunder', 'Boston Celtics', 'Chicago Bulls', 'Denver Nuggets', 'Charlotte Hornets', 'Washington Wizards', 'Miami Heat', 'Toronto Raptors', 'Philadelphia 76ers', 'Portland Trail Blazers', 'San Antonio Spurs', 'Boston Celtics', 'Detroit Pistons', 'Indiana Pacers', 'Golden State Warriors', 'Minnesota Timberwolves', 'Cleveland Cavaliers', 'Sacramento Kings', 'Milwaukee Bucks', 'New York Knicks', 'Los Angeles Lakers', 'Miami Heat', 'Phoenix Suns', 'Portland Trail Blazers', 'Toronto Raptors', 'Houston Rockets', 'Golden State Warriors', 'Indiana Pacers', 'Los Angeles Clippers', 'Minnesota Timberwolves', 'New Orleans Pelicans', 'San Antonio Spurs', 'Dallas Mavericks', 'Los Angeles Lakers', 'Portland Trail Blazers', 'Miami Heat', 'Detroit Pistons', 'Dallas Mavericks', 'Atlanta Hawks', 'Los Angeles Clippers', 'Houston Rockets', 'Miami Heat', 'Memphis Grizzlies', 'Milwaukee Bucks', 'Minnesota Timberwolves', 'Chicago Bulls', 'Utah Jazz', 'Los Angeles Lakers', 'Boston Celtics', 'Los Angeles Clippers', 'Toronto Raptors', 'Brooklyn Nets', 'Charlotte Hornets', 'Denver Nuggets', 'Indiana Pacers', 'Golden State Warriors', 'Minnesota Timberwolves', 'New Orleans Pelicans', 'Houston Rockets', 'Washington Wizards', 'Chicago Bulls', 'Oklahoma City Thunder', 'Los Angeles Lakers', 'Los Angeles Clippers', 'San Antonio Spurs', 'Golden State Warriors', 'Washington Wizards', 'Miami Heat', 'Minnesota Timberwolves', 'New Orleans Pelicans', 'Indiana Pacers', 'Atlanta Hawks', 'New York Knicks', 'Chicago Bulls', 'Golden State Warriors', 'Charlotte Hornets', 'Los Angeles Clippers', 'Memphis Grizzlies', 'Oklahoma City Thunder', 'Philadelphia 76ers', 'Indiana Pacers', 'Milwaukee Bucks', 'New Orleans Pelicans', 'Denver Nuggets', 'Orlando Magic', 'Portland Trail Blazers', 'Atlanta Hawks', 'San Antonio Spurs', 'Golden State Warriors', 'Charlotte Hornets', 'Los Angeles Clippers', 'Memphis Grizzlies', 'Miami Heat', 'Oklahoma City Thunder', 'Utah Jazz', 'Toronto Raptors', 'Philadelphia 76ers', 'Cleveland Cavaliers', 'Houston Rockets', 'Portland Trail Blazers', 'Brooklyn Nets', 'Phoenix Suns', 'Washington Wizards', 'Los Angeles Lakers', 'Memphis Grizzlies', 'Toronto Raptors', 'New York Knicks', 'Chicago Bulls', 'Miami Heat', 'Oklahoma City Thunder', 'Houston Rockets', 'Minnesota Timberwolves', 'New Orleans Pelicans', 'Philadelphia 76ers', 'Portland Trail Blazers', 'Utah Jazz', 'Orlando Magic', 'Brooklyn Nets', 'Los Angeles Lakers', 'Indiana Pacers', 'Atlanta Hawks', 'Charlotte Hornets', 'Dallas Mavericks', 'Denver Nuggets', 'Houston Rockets', 'Minnesota Timberwolves', 'Memphis Grizzlies', 'Milwaukee Bucks', 'New Orleans Pelicans', 'Golden State Warriors', 'Los Angeles Lakers', 'Oklahoma City Thunder', 'Sacramento Kings', 'San Antonio Spurs', 'Toronto Raptors', 'New Orleans Pelicans', 'Houston Rockets', 'Utah Jazz', 'Indiana Pacers', 'Boston Celtics', 'San Antonio Spurs', 'Philadelphia 76ers', 'Portland Trail Blazers', 'Denver Nuggets', 'Golden State Warriors', 'Sacramento Kings', 'Oklahoma City Thunder', 'Los Angeles Lakers', 'Charlotte Hornets', 'Cleveland Cavaliers', 'Portland Trail Blazers', 'Los Angeles Clippers', 'Milwaukee Bucks', 'New Orleans Pelicans', 'New York Knicks', 'Philadelphia 76ers', 'Utah Jazz', 'Washington Wizards', 'Denver Nuggets', 'Oklahoma City Thunder', 'Golden State Warriors', 'Indiana Pacers', 'Miami Heat', 'Minnesota Timberwolves', 'Milwaukee Bucks', 'Cleveland Cavaliers', 'Houston Rockets', 'Los Angeles Clippers', 'Oklahoma City Thunder', 'San Antonio Spurs', 'Toronto Raptors', 'Atlanta Hawks', 'Miami Heat', 'Boston Celtics', 'Indiana Pacers', 'Memphis Grizzlies', 'Milwaukee Bucks', 'Detroit Pistons', 'Houston Rockets', 'Portland Trail Blazers', 'Sacramento Kings', 'New York Knicks', 'San Antonio Spurs', 'Toronto Raptors', 'Utah Jazz', 'Washington Wizards', 'Charlotte Hornets', 'Boston Celtics', 'Brooklyn Nets', 'Cleveland Cavaliers', 'Indiana Pacers', 'Orlando Magic', 'Phoenix Suns', 'Portland Trail Blazers', 'Denver Nuggets', 'Detroit Pistons', 'Minnesota Timberwolves', 'Houston Rockets', 'Washington Wizards', 'Boston Celtics', 'Los Angeles Lakers', 'Charlotte Hornets', 'Milwaukee Bucks', 'New Orleans Pelicans', 'Philadelphia 76ers', 'Utah Jazz', 'Golden State Warriors', 'Toronto Raptors', 'Houston Rockets', 'Denver Nuggets', 'Detroit Pistons', 'Indiana Pacers', 'Los Angeles Clippers', 'Minnesota Timberwolves', 'Washington Wizards', 'Dallas Mavericks', 'Utah Jazz', 'Boston Celtics', 'Milwaukee Bucks', 'Atlanta Hawks', 'Los Angeles Lakers', 'Charlotte Hornets', 'Toronto Raptors', 'Denver Nuggets', 'Detroit Pistons', 'Washington Wizards', 'Los Angeles Clippers', 'Orlando Magic', 'Utah Jazz', 'Sacramento Kings', 'Atlanta Hawks', 'Houston Rockets', 'Oklahoma City Thunder', 'Los Angeles Lakers', 'Milwaukee Bucks', 'Orlando Magic', 'Philadelphia 76ers', 'Toronto Raptors', 'Cleveland Cavaliers', 'Detroit Pistons', 'Utah Jazz', 'Houston Rockets', 'San Antonio Spurs', 'Golden State Warriors', 'Los Angeles Lakers', 'Orlando Magic', 'Portland Trail Blazers', 'Toronto Raptors', 'Boston Celtics', 'Cleveland Cavaliers', 'Indiana Pacers', 'Chicago Bulls', 'Los Angeles Clippers', 'Houston Rockets', 'Miami Heat', 'Philadelphia 76ers', 'Portland Trail Blazers', 'Utah Jazz', 'New Orleans Pelicans', 'Washington Wizards', 'Dallas Mavericks', 'Golden State Warriors', 'Milwaukee Bucks', 'Philadelphia 76ers', 'Denver Nuggets', 'Atlanta Hawks', 'Cleveland Cavaliers', 'Toronto Raptors', 'Houston Rockets', 'Indiana Pacers', 'Minnesota Timberwolves', 'Oklahoma City Thunder', 'Utah Jazz', 'Los Angeles Clippers', 'Chicago Bulls', 'New Orleans Pelicans', 'Golden State Warriors', 'Philadelphia 76ers', 'Utah Jazz', 'Sacramento Kings', 'Denver Nuggets', 'Milwaukee Bucks', 'Houston Rockets', 'Cleveland Cavaliers', 'Toronto Raptors', 'Los Angeles Clippers', 'Indiana Pacers', 'Toronto Raptors', 'Detroit Pistons', 'Houston Rockets', 'Oklahoma City Thunder', 'New Orleans Pelicans', 'Washington Wizards', 'Charlotte Hornets', 'Philadelphia 76ers', 'Portland Trail Blazers', 'Utah Jazz', 'Denver Nuggets', 'Minnesota Timberwolves', 'Philadelphia 76ers', 'Charlotte Hornets', 'Washington Wizards', 'Golden State Warriors', 'New York Knicks', 'Oklahoma City Thunder', 'Denver Nuggets', 'Boston Celtics', 'Houston Rockets', 'Indiana Pacers', 'Los Angeles Lakers', 'Cleveland Cavaliers', 'New Orleans Pelicans', 'Los Angeles Clippers', 'Milwaukee Bucks', 'Portland Trail Blazers', 'Charlotte Hornets', 'Golden State Warriors', 'Miami Heat', 'Minnesota Timberwolves', 'Boston Celtics', 'Philadelphia 76ers', 'Portland Trail Blazers', 'Los Angeles Lakers', 'Utah Jazz', 'Charlotte Hornets', 'San Antonio Spurs', 'Houston Rockets', 'New Orleans Pelicans', 'Washington Wizards', 'Los Angeles Lakers', 'Boston Celtics', 'Brooklyn Nets', 'Dallas Mavericks', 'New Orleans Pelicans', 'Golden State Warriors', 'Oklahoma City Thunder', 'Minnesota Timberwolves', 'Toronto Raptors', 'Houston Rockets', 'Charlotte Hornets', 'Cleveland Cavaliers', 'Los Angeles Clippers', 'Miami Heat', 'Washington Wizards', 'Portland Trail Blazers', 'Atlanta Hawks', 'Boston Celtics', 'Oklahoma City Thunder', 'Detroit Pistons', 'Houston Rockets', 'Phoenix Suns', 'Toronto Raptors', 'New Orleans Pelicans', 'Golden State Warriors', 'Philadelphia 76ers', 'Los Angeles Lakers', 'Portland Trail Blazers', 'Sacramento Kings', 'Golden State Warriors', 'Chicago Bulls', 'Los Angeles Clippers', 'Denver Nuggets', 'Indiana Pacers', 'Orlando Magic', 'Philadelphia 76ers', 'Oklahoma City Thunder', 'Utah Jazz', 'Toronto Raptors', 'Denver Nuggets', 'Houston Rockets', 'Miami Heat', 'Orlando Magic', 'Portland Trail Blazers', 'Utah Jazz', 'Los Angeles Lakers', 'Atlanta Hawks', 'New Orleans Pelicans', 'Los Angeles Clippers', 'Milwaukee Bucks', 'Sacramento Kings', 'Toronto Raptors', 'Indiana Pacers', 'Boston Celtics', 'Cleveland Cavaliers', 'Indiana Pacers', 'Portland Trail Blazers', 'Miami Heat', 'San Antonio Spurs', 'Utah Jazz', 'Philadelphia 76ers', 'Dallas Mavericks', 'Golden State Warriors', 'New Orleans Pelicans', 'Houston Rockets', 'Portland Trail Blazers', 'Toronto Raptors', 'Washington Wizards', 'Chicago Bulls', 'Cleveland Cavaliers', 'Toronto Raptors', 'Utah Jazz', 'Los Angeles Lakers', 'Houston Rockets', 'New Orleans Pelicans', 'Brooklyn Nets', 'Golden State Warriors', 'Miami Heat', 'Boston Celtics', 'Oklahoma City Thunder', 'Denver Nuggets', 'Detroit Pistons', 'Indiana Pacers', 'Los Angeles Clippers', 'Utah Jazz', 'Milwaukee Bucks', 'Washington Wizards', 'Portland Trail Blazers', 'Sacramento Kings', 'Toronto Raptors', 'Charlotte Hornets', 'Dallas Mavericks', 'Los Angeles Clippers', 'Miami Heat', 'Oklahoma City Thunder', 'Chicago Bulls', 'Indiana Pacers', 'Philadelphia 76ers', 'Houston Rockets', 'Denver Nuggets', 'Los Angeles Lakers', 'Minnesota Timberwolves', 'Utah Jazz', 'Toronto Raptors', 'Houston Rockets', 'Milwaukee Bucks', 'Oklahoma City Thunder', 'Portland Trail Blazers', 'Oklahoma City Thunder', 'Toronto Raptors', 'Los Angeles Clippers', 'Los Angeles Lakers', 'New Orleans Pelicans', 'Dallas Mavericks', 'Indiana Pacers', 'Cleveland Cavaliers', 'San Antonio Spurs', 'Utah Jazz', 'Minnesota Timberwolves', 'Washington Wizards', 'Golden State Warriors', 'Orlando Magic', 'Sacramento Kings', 'Charlotte Hornets', 'Denver Nuggets', 'Houston Rockets', 'Toronto Raptors', 'Chicago Bulls', 'Philadelphia 76ers', 'Portland Trail Blazers', 'San Antonio Spurs', 'Utah Jazz', 'Sacramento Kings', 'Miami Heat', 'Oklahoma City Thunder', 'Boston Celtics', 'Philadelphia 76ers', 'Toronto Raptors', 'Brooklyn Nets', 'Cleveland Cavaliers', 'Memphis Grizzlies', 'Milwaukee Bucks', 'Houston Rockets', 'New York Knicks', 'Golden State Warriors', 'Portland Trail Blazers', 'San Antonio Spurs', 'Utah Jazz', 'Washington Wizards', 'Portland Trail Blazers', 'Houston Rockets', 'New Orleans Pelicans', 'Oklahoma City Thunder', 'Brooklyn Nets', 'Cleveland Cavaliers', 'Indiana Pacers', 'Miami Heat', 'New York Knicks', 'Philadelphia 76ers', 'Detroit Pistons', 'San Antonio Spurs', 'Boston Celtics', 'Minnesota Timberwolves', 'New Orleans Pelicans', 'Toronto Raptors', 'Detroit Pistons', 'Houston Rockets', 'Atlanta Hawks', 'Charlotte Hornets', 'Denver Nuggets', 'Cleveland Cavaliers', 'Miami Heat', 'Los Angeles Clippers', 'New Orleans Pelicans', 'Philadelphia 76ers', 'San Antonio Spurs', 'Charlotte Hornets', 'Utah Jazz', 'Houston Rockets', 'New Orleans Pelicans', 'Philadelphia 76ers', 'Sacramento Kings', 'Milwaukee Bucks', 'Cleveland Cavaliers', 'Golden State Warriors', 'Indiana Pacers', 'Minnesota Timberwolves', 'Oklahoma City Thunder', 'Boston Celtics', 'San Antonio Spurs', 'Toronto Raptors', 'Denver Nuggets', 'Charlotte Hornets', 'Detroit Pistons', 'Houston Rockets', 'Los Angeles Lakers', 'Orlando Magic', 'Philadelphia 76ers', 'Cleveland Cavaliers', 'Utah Jazz', 'Houston Rockets', 'Indiana Pacers', 'Milwaukee Bucks', 'Portland Trail Blazers', 'Boston Celtics', 'Los Angeles Clippers', 'New York Knicks', 'Charlotte Hornets', 'Detroit Pistons', 'Memphis Grizzlies', 'Philadelphia 76ers', 'Boston Celtics', 'Indiana Pacers', 'Houston Rockets', 'Los Angeles Clippers', 'Miami Heat', 'Portland Trail Blazers', 'Dallas Mavericks', 'Toronto Raptors', 'Washington Wizards', 'Cleveland Cavaliers', 'Los Angeles Lakers', 'Memphis Grizzlies', 'Minnesota Timberwolves', 'Brooklyn Nets', 'Philadelphia 76ers', 'Los Angeles Clippers', 'Boston Celtics', 'Detroit Pistons', 'Milwaukee Bucks', 'Miami Heat', 'Indiana Pacers', 'San Antonio Spurs', 'Philadelphia 76ers', 'Cleveland Cavaliers', 'Minnesota Timberwolves', 'Houston Rockets', 'Milwaukee Bucks', 'Denver Nuggets', 'Chicago Bulls', 'Portland Trail Blazers', 'Utah Jazz', 'Boston Celtics', 'Brooklyn Nets', 'Detroit Pistons', 'Golden State Warriors', 'Washington Wizards', 'Atlanta Hawks', 'Detroit Pistons', 'Chicago Bulls', 'Philadelphia 76ers', 'Cleveland Cavaliers', 'Denver Nuggets', 'Golden State Warriors', 'Indiana Pacers', 'Sacramento Kings', 'Utah Jazz', 'Oklahoma City Thunder', 'Portland Trail Blazers', 'San Antonio Spurs', 'Chicago Bulls', 'Cleveland Cavaliers', 'Dallas Mavericks', 'Denver Nuggets', 'Houston Rockets', 'Los Angeles Clippers', 'Miami Heat', 'Milwaukee Bucks', 'Orlando Magic', 'Golden State Warriors', 'Philadelphia 76ers', 'Phoenix Suns', 'Utah Jazz', 'Miami Heat', 'Philadelphia 76ers', 'Los Angeles Lakers', 'New Orleans Pelicans', 'Orlando Magic', 'Toronto Raptors', 'Cleveland Cavaliers', 'Denver Nuggets', 'Houston Rockets', 'Indiana Pacers', 'Brooklyn Nets', 'Utah Jazz', 'Boston Celtics', 'Detroit Pistons', 'Minnesota Timberwolves', 'Sacramento Kings', 'New York Knicks', 'Charlotte Hornets', 'Philadelphia 76ers', 'New Orleans Pelicans', 'Toronto Raptors', 'Atlanta Hawks', 'Brooklyn Nets', 'New Orleans Pelicans', 'Oklahoma City Thunder', 'Denver Nuggets', 'Milwaukee Bucks', 'San Antonio Spurs', 'Atlanta Hawks', 'Indiana Pacers', 'Utah Jazz', 'Memphis Grizzlies', 'Philadelphia 76ers', 'Golden State Warriors', 'Toronto Raptors', 'Brooklyn Nets', 'Denver Nuggets', 'Toronto Raptors', 'New Orleans Pelicans', 'Oklahoma City Thunder', 'Milwaukee Bucks', 'Minnesota Timberwolves', 'Cleveland Cavaliers', 'San Antonio Spurs', 'Philadelphia 76ers', 'Phoenix Suns', 'Charlotte Hornets', 'Houston Rockets', 'Utah Jazz', 'Washington Wizards', 'Boston Celtics', 'Detroit Pistons', 'New York Knicks', 'Los Angeles Lakers', 'Miami Heat', 'Minnesota Timberwolves', 'New Orleans Pelicans', 'Oklahoma City Thunder', 'Orlando Magic', 'Philadelphia 76ers', 'Portland Trail Blazers', 'Sacramento Kings']\n",
      "['H', 'V', 'V', 'V', 'H', 'H', 'H', 'H', 'V', 'V', 'H', 'H', 'H', 'V', 'H', 'H', 'H', 'H', 'V', 'V', 'V', 'H', 'V', 'V', 'V', 'H', 'V', 'V', 'H', 'H', 'H', 'H', 'H', 'H', 'V', 'H', 'H', 'H', 'V', 'V', 'V', 'V', 'V', 'V', 'H', 'H', 'H', 'H', 'H', 'H', 'H', 'V', 'H', 'H', 'H', 'H', 'H', 'H', 'H', 'H', 'V', 'H', 'V', 'H', 'H', 'H', 'V', 'V', 'V', 'V', 'V', 'H', 'V', 'H', 'H', 'H', 'V', 'V', 'V', 'H', 'V', 'H', 'H', 'H', 'V', 'V', 'H', 'V', 'V', 'H', 'V', 'H', 'V', 'V', 'V', 'V', 'V', 'H', 'V', 'H', 'V', 'H', 'H', 'V', 'H', 'H', 'V', 'H', 'H', 'V', 'H', 'V', 'V', 'H', 'H', 'V', 'H', 'V', 'V', 'V', 'H', 'H', 'H', 'H', 'V', 'V', 'H', 'H', 'V', 'V', 'V', 'V', 'H', 'V', 'H', 'V', 'H', 'V', 'H', 'H', 'H', 'V', 'H', 'H', 'V', 'V', 'H', 'V', 'H', 'H', 'V', 'H', 'V', 'H', 'H', 'H', 'V', 'V', 'H', 'H', 'H', 'H', 'V', 'H', 'H', 'H', 'H', 'H', 'H', 'V', 'H', 'H', 'V', 'V', 'V', 'V', 'V', 'H', 'H', 'H', 'H', 'H', 'H', 'H', 'H', 'H', 'H', 'H', 'H', 'V', 'H', 'H', 'V', 'H', 'H', 'V', 'V', 'H', 'V', 'H', 'V', 'V', 'V', 'H', 'V', 'V', 'V', 'V', 'H', 'H', 'V', 'H', 'H', 'H', 'H', 'V', 'H', 'H', 'H', 'V', 'H', 'H', 'V', 'H', 'H', 'H', 'V', 'V', 'H', 'H', 'V', 'V', 'V', 'H', 'V', 'H', 'V', 'V', 'H', 'H', 'H', 'V', 'V', 'V', 'V', 'H', 'H', 'V', 'H', 'V', 'H', 'H', 'V', 'H', 'H', 'H', 'V', 'H', 'H', 'H', 'H', 'H', 'H', 'V', 'H', 'H', 'H', 'H', 'V', 'H', 'H', 'H', 'H', 'V', 'V', 'V', 'V', 'V', 'H', 'H', 'H', 'V', 'H', 'V', 'H', 'V', 'V', 'V', 'H', 'V', 'V', 'H', 'H', 'H', 'V', 'V', 'H', 'V', 'H', 'V', 'V', 'H', 'V', 'H', 'H', 'V', 'V', 'H', 'H', 'H', 'H', 'H', 'V', 'H', 'H', 'V', 'V', 'V', 'V', 'H', 'H', 'V', 'H', 'H', 'H', 'H', 'V', 'H', 'H', 'H', 'H', 'H', 'V', 'V', 'V', 'H', 'V', 'H', 'V', 'H', 'V', 'H', 'H', 'H', 'H', 'V', 'V', 'H', 'H', 'H', 'V', 'H', 'H', 'V', 'H', 'H', 'V', 'H', 'H', 'H', 'H', 'H', 'H', 'V', 'V', 'V', 'V', 'V', 'H', 'V', 'H', 'V', 'V', 'H', 'H', 'V', 'H', 'V', 'H', 'H', 'V', 'H', 'V', 'V', 'V', 'H', 'H', 'H', 'H', 'V', 'H', 'H', 'H', 'H', 'V', 'V', 'H', 'H', 'H', 'V', 'V', 'H', 'H', 'H', 'H', 'H', 'V', 'V', 'H', 'V', 'V', 'H', 'V', 'V', 'H', 'H', 'H', 'V', 'V', 'H', 'H', 'V', 'H', 'V', 'V', 'V', 'H', 'H', 'V', 'H', 'H', 'V', 'H', 'V', 'H', 'H', 'V', 'H', 'H', 'V', 'H', 'H', 'H', 'V', 'H', 'V', 'V', 'H', 'H', 'H', 'H', 'V', 'H', 'V', 'V', 'V', 'H', 'V', 'H', 'V', 'H', 'V', 'H', 'H', 'V', 'H', 'H', 'V', 'H', 'H', 'H', 'H', 'H', 'V', 'H', 'H', 'H', 'V', 'V', 'H', 'H', 'H', 'V', 'H', 'V', 'H', 'V', 'V', 'V', 'H', 'V', 'H', 'V', 'H', 'V', 'V', 'H', 'H', 'H', 'H', 'H', 'H', 'V', 'H', 'H', 'H', 'H', 'V', 'H', 'V', 'V', 'H', 'H', 'H', 'H', 'H', 'H', 'H', 'H', 'H', 'H', 'V', 'V', 'V', 'V', 'V', 'V', 'H', 'H', 'H', 'V', 'H', 'H', 'V', 'V', 'H', 'H', 'H', 'V', 'H', 'V', 'V', 'V', 'H', 'H', 'V', 'H', 'H', 'H', 'H', 'V', 'H', 'V', 'H', 'H', 'V', 'V', 'H', 'V', 'H', 'H', 'V', 'H', 'V', 'H', 'V', 'V', 'H', 'V', 'H', 'V', 'V', 'H', 'V', 'H', 'H', 'H', 'V', 'H', 'H', 'V', 'H', 'V', 'H', 'V', 'V', 'H', 'H', 'H', 'H', 'V', 'V', 'H', 'H', 'H', 'H', 'H', 'V', 'H', 'H', 'V', 'V', 'V', 'V', 'V', 'V', 'H', 'V', 'H', 'H', 'H', 'V', 'V', 'H', 'V', 'V', 'H', 'V', 'H', 'H', 'H', 'V', 'H', 'H', 'V', 'H', 'H', 'V', 'V', 'H', 'H', 'V', 'H', 'H', 'H', 'V', 'V', 'H', 'V', 'H', 'V', 'V', 'H', 'H', 'H', 'H', 'V', 'V', 'V', 'H', 'H', 'H', 'H', 'V', 'V', 'H', 'H', 'H', 'V', 'H', 'V', 'H', 'V', 'H', 'H', 'H', 'H', 'V', 'V', 'H', 'H', 'H', 'V', 'V', 'V', 'V', 'H', 'H', 'H', 'H', 'H', 'H', 'V', 'V', 'H', 'V', 'H', 'H', 'H', 'H', 'H', 'V', 'H', 'H', 'H', 'H', 'H', 'H', 'V', 'H', 'V', 'V', 'V', 'V', 'H', 'V', 'V', 'H', 'H', 'H', 'H', 'V', 'H', 'V', 'H', 'H', 'V', 'V', 'H', 'H', 'V', 'V', 'V', 'V', 'H', 'V', 'H', 'H', 'H', 'H', 'V', 'H', 'H', 'V', 'H', 'H', 'H', 'H', 'V', 'V', 'H', 'H', 'H', 'H', 'H', 'V', 'V', 'H', 'H', 'H', 'H', 'H', 'V', 'H', 'H', 'H', 'H', 'H', 'H', 'H', 'H', 'H', 'H', 'V', 'H', 'H', 'V', 'H', 'H', 'V', 'H', 'V', 'V', 'H', 'V', 'H', 'H', 'H', 'H', 'H', 'V', 'V', 'V', 'H', 'V', 'V', 'V', 'V', 'H', 'H', 'H', 'V', 'H', 'V', 'V', 'H', 'H', 'V', 'V', 'H', 'V', 'H', 'H', 'H', 'H', 'H', 'V', 'V', 'V', 'H', 'H', 'H', 'H', 'H', 'V', 'V', 'V', 'H', 'V', 'H', 'H', 'H', 'V', 'H', 'V', 'V', 'H', 'H', 'V', 'H', 'V', 'H', 'V', 'V', 'H', 'H', 'H', 'H', 'V', 'V', 'H', 'V', 'H', 'H', 'H', 'V', 'H', 'H', 'V', 'V', 'H', 'V', 'V', 'V', 'H', 'H', 'V', 'H', 'V', 'V', 'H', 'H', 'H', 'V', 'H', 'V', 'H', 'V', 'H', 'V', 'V', 'H', 'V', 'H', 'H', 'H', 'V', 'H', 'V', 'V', 'V', 'V', 'H', 'H', 'H', 'V', 'H', 'V', 'V', 'H', 'H', 'V', 'V', 'V', 'H', 'V', 'H', 'H', 'H', 'H', 'V', 'H', 'V', 'H', 'V', 'H', 'H', 'V', 'H', 'V', 'H', 'H', 'H', 'V', 'H', 'V', 'V', 'V', 'V', 'V', 'V', 'V', 'H', 'H', 'V', 'H', 'H', 'V', 'V', 'H', 'H', 'V', 'H', 'V', 'V', 'H', 'H', 'H', 'H', 'V', 'V', 'H', 'V', 'H', 'H', 'H', 'H', 'V', 'V', 'H', 'H', 'V', 'H', 'H', 'H', 'V', 'H', 'H', 'V', 'V', 'H', 'H', 'H', 'H', 'V', 'V', 'V', 'H', 'V', 'V', 'V', 'H', 'H', 'V', 'H', 'H', 'H', 'H', 'H', 'V', 'H', 'V', 'H', 'H', 'H', 'H', 'H', 'H', 'H', 'H', 'V', 'V', 'V', 'V', 'H', 'H', 'H', 'V', 'V', 'H', 'V', 'H', 'H', 'V', 'V', 'V', 'H', 'H', 'V', 'V', 'V', 'H', 'H', 'V', 'V', 'H', 'H', 'H', 'V', 'H', 'H', 'V', 'V', 'V', 'H', 'H', 'H', 'V', 'V', 'H', 'V', 'H', 'H', 'H', 'V', 'H', 'H', 'V', 'H', 'V', 'H', 'H', 'H', 'H', 'V', 'V', 'H', 'V', 'H', 'H', 'H', 'H', 'H', 'H', 'V', 'H', 'H', 'H', 'H', 'V', 'V', 'V', 'V', 'V', 'V', 'H', 'H', 'V', 'H', 'H', 'H', 'H', 'V', 'H', 'H', 'V', 'H', 'V', 'H', 'H', 'H', 'V', 'H', 'V', 'H', 'H', 'V', 'V', 'H', 'H', 'V', 'H', 'H', 'V', 'V', 'H', 'H', 'H', 'V', 'V', 'V', 'V', 'H', 'H', 'V', 'H', 'V', 'V', 'H', 'H', 'H', 'V', 'V', 'H', 'H', 'V', 'H', 'H', 'H', 'V', 'H', 'V', 'V', 'H', 'V', 'H', 'V', 'H', 'V', 'H', 'V', 'H', 'V', 'V', 'V', 'H', 'H', 'H', 'V', 'V', 'V', 'H', 'H', 'V', 'H', 'V', 'H', 'H', 'H', 'V', 'V', 'V', 'V', 'H', 'H', 'H', 'H', 'H', 'H', 'H', 'H', 'H', 'H', 'V', 'V', 'H', 'H', 'H', 'V', 'V', 'H', 'H', 'H', 'H', 'H', 'H', 'H', 'H', 'V', 'H', 'H', 'H', 'V', 'V', 'H', 'V', 'H', 'V', 'H', 'V', 'V', 'V', 'V', 'V', 'V', 'H', 'V', 'V', 'V', 'H', 'H', 'V', 'H', 'H', 'H', 'V', 'V', 'V', 'H', 'H', 'V', 'H', 'V', 'V', 'V', 'V', 'H', 'H', 'H', 'V', 'V', 'V', 'H', 'H', 'H', 'H', 'H', 'H', 'H', 'H']\n"
     ]
    }
   ],
   "source": [
    "print(wining_team)\n",
    "print(field)"
   ]
  },
  {
   "cell_type": "code",
   "execution_count": 17,
   "metadata": {},
   "outputs": [
    {
     "name": "stdout",
     "output_type": "stream",
     "text": [
      "['Boston Celtics', 'Golden State Warriors', 'Boston Celtics', 'Dallas Mavericks', 'Charlotte Hornets', 'Brooklyn Nets', 'New Orleans Pelicans', 'Miami Heat', 'Phoenix Suns', 'Sacramento Kings', 'Minnesota Timberwolves', 'Denver Nuggets', 'Philadelphia 76ers', 'Los Angeles Lakers', 'New York Knicks', 'Chicago Bulls', 'Orlando Magic', 'Atlanta Hawks', 'Dallas Mavericks', 'Indiana Pacers', 'Milwaukee Bucks', 'Utah Jazz', 'New Orleans Pelicans', 'Philadelphia 76ers', 'Phoenix Suns', 'Detroit Pistons', 'Chicago Bulls', 'Cleveland Cavaliers', 'Sacramento Kings', 'Dallas Mavericks', 'Phoenix Suns', 'Golden State Warriors', 'Indiana Pacers', 'Portland Trail Blazers', 'New York Knicks', 'Philadelphia 76ers', 'Oklahoma City Thunder', 'Atlanta Hawks', 'Los Angeles Lakers', 'Oklahoma City Thunder', 'Dallas Mavericks', 'Denver Nuggets', 'Detroit Pistons', 'Houston Rockets', 'Atlanta Hawks', 'Charlotte Hornets', 'Sacramento Kings', 'Toronto Raptors', 'New York Knicks', 'Chicago Bulls', 'Utah Jazz', 'Minnesota Timberwolves', 'Brooklyn Nets', 'New Orleans Pelicans', 'Cleveland Cavaliers', 'Denver Nuggets', 'Memphis Grizzlies', 'Minnesota Timberwolves', 'Toronto Raptors', 'Washington Wizards', 'Miami Heat', 'Indiana Pacers', 'Philadelphia 76ers', 'Utah Jazz', 'Atlanta Hawks', 'Dallas Mavericks', 'Milwaukee Bucks', 'Portland Trail Blazers', 'Sacramento Kings', 'Atlanta Hawks', 'Charlotte Hornets', 'Washington Wizards', 'Los Angeles Lakers', 'Oklahoma City Thunder', 'Brooklyn Nets', 'San Antonio Spurs', 'Chicago Bulls', 'Dallas Mavericks', 'Los Angeles Clippers', 'Houston Rockets', 'Miami Heat', 'Cleveland Cavaliers', 'Phoenix Suns', 'Los Angeles Lakers', 'Atlanta Hawks', 'Brooklyn Nets', 'Orlando Magic', 'Cleveland Cavaliers', 'Golden State Warriors', 'San Antonio Spurs', 'Sacramento Kings', 'San Antonio Spurs', 'Houston Rockets', 'Los Angeles Clippers', 'Memphis Grizzlies', 'Miami Heat', 'New Orleans Pelicans', 'Denver Nuggets', 'Portland Trail Blazers', 'Dallas Mavericks', 'Brooklyn Nets', 'Sacramento Kings', 'Detroit Pistons', 'Milwaukee Bucks', 'Sacramento Kings', 'Milwaukee Bucks', 'Cleveland Cavaliers', 'Toronto Raptors', 'Dallas Mavericks', 'Memphis Grizzlies', 'Chicago Bulls', 'New Orleans Pelicans', 'New York Knicks', 'Atlanta Hawks', 'Portland Trail Blazers', 'Washington Wizards', 'Los Angeles Lakers', 'San Antonio Spurs', 'Atlanta Hawks', 'Dallas Mavericks', 'Miami Heat', 'Milwaukee Bucks', 'Brooklyn Nets', 'Phoenix Suns', 'Oklahoma City Thunder', 'Orlando Magic', 'Indiana Pacers', 'Charlotte Hornets', 'Utah Jazz', 'Washington Wizards', 'Chicago Bulls', 'Denver Nuggets', 'Sacramento Kings', 'Los Angeles Clippers', 'Dallas Mavericks', 'Cleveland Cavaliers', 'Utah Jazz', 'Los Angeles Clippers', 'Memphis Grizzlies', 'Charlotte Hornets', 'Indiana Pacers', 'Orlando Magic', 'Oklahoma City Thunder', 'Phoenix Suns', 'Toronto Raptors', 'Atlanta Hawks', 'Miami Heat', 'Phoenix Suns', 'Milwaukee Bucks', 'Brooklyn Nets', 'Indiana Pacers', 'Charlotte Hornets', 'Portland Trail Blazers', 'Oklahoma City Thunder', 'Los Angeles Clippers', 'Chicago Bulls', 'Utah Jazz', 'Washington Wizards', 'Los Angeles Lakers', 'Indiana Pacers', 'Minnesota Timberwolves', 'New York Knicks', 'Phoenix Suns', 'Oklahoma City Thunder', 'Cleveland Cavaliers', 'Philadelphia 76ers', 'New Orleans Pelicans', 'Los Angeles Lakers', 'Charlotte Hornets', 'Chicago Bulls', 'Atlanta Hawks', 'Los Angeles Clippers', 'Phoenix Suns', 'Portland Trail Blazers', 'San Antonio Spurs', 'Utah Jazz', 'Dallas Mavericks', 'Orlando Magic', 'Philadelphia 76ers', 'Memphis Grizzlies', 'Los Angeles Lakers', 'Los Angeles Clippers', 'Sacramento Kings', 'Minnesota Timberwolves', 'Chicago Bulls', 'Brooklyn Nets', 'Atlanta Hawks', 'Toronto Raptors', 'Miami Heat', 'Indiana Pacers', 'Dallas Mavericks', 'Orlando Magic', 'Los Angeles Clippers', 'Memphis Grizzlies', 'Atlanta Hawks', 'New York Knicks', 'Phoenix Suns', 'Denver Nuggets', 'Utah Jazz', 'Sacramento Kings', 'Brooklyn Nets', 'Dallas Mavericks', 'Houston Rockets', 'Sacramento Kings', 'Charlotte Hornets', 'Los Angeles Lakers', 'Memphis Grizzlies', 'Miami Heat', 'Detroit Pistons', 'San Antonio Spurs', 'New Orleans Pelicans', 'Utah Jazz', 'Chicago Bulls', 'Orlando Magic', 'Golden State Warriors', 'Phoenix Suns', 'Utah Jazz', 'Charlotte Hornets', 'Los Angeles Clippers', 'Dallas Mavericks', 'New Orleans Pelicans', 'Detroit Pistons', 'Los Angeles Lakers', 'Portland Trail Blazers', 'Oklahoma City Thunder', 'New York Knicks', 'Washington Wizards', 'Atlanta Hawks', 'Los Angeles Clippers', 'Milwaukee Bucks', 'Memphis Grizzlies', 'Orlando Magic', 'Philadelphia 76ers', 'Sacramento Kings', 'Brooklyn Nets', 'Denver Nuggets', 'Miami Heat', 'Minnesota Timberwolves', 'Chicago Bulls', 'Washington Wizards', 'Minnesota Timberwolves', 'Dallas Mavericks', 'Detroit Pistons', 'Memphis Grizzlies', 'Milwaukee Bucks', 'Oklahoma City Thunder', 'Los Angeles Clippers', 'Orlando Magic', 'Utah Jazz', 'Sacramento Kings', 'Atlanta Hawks', 'Chicago Bulls', 'Atlanta Hawks', 'Washington Wizards', 'Brooklyn Nets', 'Denver Nuggets', 'Memphis Grizzlies', 'Boston Celtics', 'Orlando Magic', 'San Antonio Spurs', 'Toronto Raptors', 'Golden State Warriors', 'Portland Trail Blazers', 'Phoenix Suns', 'Los Angeles Lakers', 'Chicago Bulls', 'New York Knicks', 'Orlando Magic', 'Brooklyn Nets', 'Charlotte Hornets', 'Memphis Grizzlies', 'Chicago Bulls', 'Toronto Raptors', 'Minnesota Timberwolves', 'Oklahoma City Thunder', 'Phoenix Suns', 'Atlanta Hawks', 'Charlotte Hornets', 'Oklahoma City Thunder', 'New Orleans Pelicans', 'New York Knicks', 'Indiana Pacers', 'Orlando Magic', 'Sacramento Kings', 'Milwaukee Bucks', 'Washington Wizards', 'Chicago Bulls', 'Memphis Grizzlies', 'Phoenix Suns', 'Boston Celtics', 'Golden State Warriors', 'Brooklyn Nets', 'Orlando Magic', 'Los Angeles Lakers', 'New York Knicks', 'Philadelphia 76ers', 'Dallas Mavericks', 'Chicago Bulls', 'Miami Heat', 'Minnesota Timberwolves', 'Sacramento Kings', 'Denver Nuggets', 'Dallas Mavericks', 'Phoenix Suns', 'Indiana Pacers', 'Los Angeles Lakers', 'New Orleans Pelicans', 'Miami Heat', 'Oklahoma City Thunder', 'Washington Wizards', 'Memphis Grizzlies', 'Charlotte Hornets', 'Atlanta Hawks', 'Philadelphia 76ers', 'Chicago Bulls', 'Los Angeles Clippers', 'Portland Trail Blazers', 'Chicago Bulls', 'Memphis Grizzlies', 'Charlotte Hornets', 'Minnesota Timberwolves', 'Orlando Magic', 'Indiana Pacers', 'New Orleans Pelicans', 'Detroit Pistons', 'Phoenix Suns', 'Brooklyn Nets', 'Memphis Grizzlies', 'Los Angeles Clippers', 'Los Angeles Lakers', 'Sacramento Kings', 'Detroit Pistons', 'Portland Trail Blazers', 'Los Angeles Lakers', 'Miami Heat', 'Los Angeles Clippers', 'New York Knicks', 'San Antonio Spurs', 'Atlanta Hawks', 'Milwaukee Bucks', 'Chicago Bulls', 'Orlando Magic', 'Denver Nuggets', 'New York Knicks', 'Minnesota Timberwolves', 'New Orleans Pelicans', 'Philadelphia 76ers', 'Detroit Pistons', 'Washington Wizards', 'Utah Jazz', 'Portland Trail Blazers', 'Phoenix Suns', 'Dallas Mavericks', 'Charlotte Hornets', 'Sacramento Kings', 'Chicago Bulls', 'Los Angeles Clippers', 'Detroit Pistons', 'Denver Nuggets', 'Memphis Grizzlies', 'Atlanta Hawks', 'Miami Heat', 'Oklahoma City Thunder', 'Philadelphia 76ers', 'Phoenix Suns', 'Utah Jazz', 'Charlotte Hornets', 'Detroit Pistons', 'Cleveland Cavaliers', 'Memphis Grizzlies', 'Dallas Mavericks', 'New Orleans Pelicans', 'Orlando Magic', 'Boston Celtics', 'Orlando Magic', 'Brooklyn Nets', 'New York Knicks', 'Charlotte Hornets', 'Philadelphia 76ers', 'Washington Wizards', 'Memphis Grizzlies', 'Utah Jazz', 'Phoenix Suns', 'Portland Trail Blazers', 'Detroit Pistons', 'Denver Nuggets', 'Dallas Mavericks', 'Philadelphia 76ers', 'Atlanta Hawks', 'Sacramento Kings', 'Boston Celtics', 'Portland Trail Blazers', 'New Orleans Pelicans', 'Toronto Raptors', 'Memphis Grizzlies', 'Oklahoma City Thunder', 'Washington Wizards', 'Atlanta Hawks', 'San Antonio Spurs', 'Detroit Pistons', 'Minnesota Timberwolves', 'Los Angeles Lakers', 'Phoenix Suns', 'Denver Nuggets', 'Utah Jazz', 'Charlotte Hornets', 'Indiana Pacers', 'Miami Heat', 'Milwaukee Bucks', 'Orlando Magic', 'Phoenix Suns', 'Memphis Grizzlies', 'Atlanta Hawks', 'Brooklyn Nets', 'Los Angeles Lakers', 'Dallas Mavericks', 'Sacramento Kings', 'Boston Celtics', 'Charlotte Hornets', 'New Orleans Pelicans', 'San Antonio Spurs', 'Indiana Pacers', 'Atlanta Hawks', 'Milwaukee Bucks', 'Orlando Magic', 'Philadelphia 76ers', 'Brooklyn Nets', 'Los Angeles Clippers', 'Charlotte Hornets', 'Utah Jazz', 'Milwaukee Bucks', 'Memphis Grizzlies', 'Los Angeles Clippers', 'Minnesota Timberwolves', 'Oklahoma City Thunder', 'Dallas Mavericks', 'Brooklyn Nets', 'Orlando Magic', 'Sacramento Kings', 'Washington Wizards', 'Miami Heat', 'Philadelphia 76ers', 'New York Knicks', 'Dallas Mavericks', 'Utah Jazz', 'Indiana Pacers', 'Los Angeles Lakers', 'Portland Trail Blazers', 'Denver Nuggets', 'Los Angeles Clippers', 'Cleveland Cavaliers', 'Philadelphia 76ers', 'New Orleans Pelicans', 'Atlanta Hawks', 'Boston Celtics', 'Brooklyn Nets', 'Orlando Magic', 'Charlotte Hornets', 'Detroit Pistons', 'Denver Nuggets', 'Memphis Grizzlies', 'Houston Rockets', 'Phoenix Suns', 'Utah Jazz', 'Portland Trail Blazers', 'Chicago Bulls', 'Boston Celtics', 'Philadelphia 76ers', 'Memphis Grizzlies', 'San Antonio Spurs', 'Washington Wizards', 'New York Knicks', 'Los Angeles Lakers', 'Houston Rockets', 'Dallas Mavericks', 'Charlotte Hornets', 'Atlanta Hawks', 'Orlando Magic', 'Portland Trail Blazers', 'Dallas Mavericks', 'Chicago Bulls', 'Milwaukee Bucks', 'Golden State Warriors', 'Brooklyn Nets', 'Los Angeles Lakers', 'Los Angeles Clippers', 'Miami Heat', 'Phoenix Suns', 'Sacramento Kings', 'Philadelphia 76ers', 'Utah Jazz', 'Orlando Magic', 'Boston Celtics', 'Cleveland Cavaliers', 'Los Angeles Lakers', 'New York Knicks', 'Houston Rockets', 'Toronto Raptors', 'Utah Jazz', 'Indiana Pacers', 'Sacramento Kings', 'Orlando Magic', 'Milwaukee Bucks', 'Memphis Grizzlies', 'Brooklyn Nets', 'Washington Wizards', 'New York Knicks', 'Charlotte Hornets', 'Utah Jazz', 'Indiana Pacers', 'Los Angeles Lakers', 'Denver Nuggets', 'Brooklyn Nets', 'Toronto Raptors', 'Cleveland Cavaliers', 'Houston Rockets', 'Minnesota Timberwolves', 'Detroit Pistons', 'Philadelphia 76ers', 'New York Knicks', 'Indiana Pacers', 'Golden State Warriors', 'Los Angeles Lakers', 'Miami Heat', 'New Orleans Pelicans', 'Oklahoma City Thunder', 'Sacramento Kings', 'Atlanta Hawks', 'Houston Rockets', 'Portland Trail Blazers', 'Denver Nuggets', 'San Antonio Spurs', 'Memphis Grizzlies', 'New Orleans Pelicans', 'Orlando Magic', 'Cleveland Cavaliers', 'Brooklyn Nets', 'Los Angeles Lakers', 'Indiana Pacers', 'Charlotte Hornets', 'Oklahoma City Thunder', 'Phoenix Suns', 'Sacramento Kings', 'Chicago Bulls', 'Orlando Magic', 'Chicago Bulls', 'Los Angeles Lakers', 'Milwaukee Bucks', 'Portland Trail Blazers', 'Memphis Grizzlies', 'New York Knicks', 'Atlanta Hawks', 'Sacramento Kings', 'Cleveland Cavaliers', 'Minnesota Timberwolves', 'Chicago Bulls', 'Dallas Mavericks', 'Phoenix Suns', 'Los Angeles Lakers', 'Detroit Pistons', 'Indiana Pacers', 'Orlando Magic', 'San Antonio Spurs', 'Utah Jazz', 'New York Knicks', 'Houston Rockets', 'Los Angeles Clippers', 'Minnesota Timberwolves', 'Dallas Mavericks', 'Utah Jazz', 'Los Angeles Lakers', 'Memphis Grizzlies', 'New York Knicks', 'Milwaukee Bucks', 'Detroit Pistons', 'Atlanta Hawks', 'Phoenix Suns', 'Brooklyn Nets', 'Houston Rockets', 'Chicago Bulls', 'Los Angeles Clippers', 'New Orleans Pelicans', 'Orlando Magic', 'Denver Nuggets', 'Washington Wizards', 'Dallas Mavericks', 'Atlanta Hawks', 'Utah Jazz', 'Oklahoma City Thunder', 'San Antonio Spurs', 'Brooklyn Nets', 'Chicago Bulls', 'Denver Nuggets', 'Milwaukee Bucks', 'Atlanta Hawks', 'Cleveland Cavaliers', 'Detroit Pistons', 'Sacramento Kings', 'Orlando Magic', 'Sacramento Kings', 'Oklahoma City Thunder', 'Toronto Raptors', 'Brooklyn Nets', 'Charlotte Hornets', 'Denver Nuggets', 'Golden State Warriors', 'Portland Trail Blazers', 'Indiana Pacers', 'New Orleans Pelicans', 'Orlando Magic', 'Oklahoma City Thunder', 'New York Knicks', 'Washington Wizards', 'San Antonio Spurs', 'Philadelphia 76ers', 'Sacramento Kings', 'Cleveland Cavaliers', 'Atlanta Hawks', 'Utah Jazz', 'Memphis Grizzlies', 'Cleveland Cavaliers', 'Milwaukee Bucks', 'New York Knicks', 'Portland Trail Blazers', 'Phoenix Suns', 'Orlando Magic', 'Detroit Pistons', 'Charlotte Hornets', 'Dallas Mavericks', 'Sacramento Kings', 'Denver Nuggets', 'Toronto Raptors', 'Brooklyn Nets', 'Milwaukee Bucks', 'Portland Trail Blazers', 'New York Knicks', 'Phoenix Suns', 'San Antonio Spurs', 'Brooklyn Nets', 'Miami Heat', 'Cleveland Cavaliers', 'Detroit Pistons', 'Houston Rockets', 'Los Angeles Lakers', 'Sacramento Kings', 'Toronto Raptors', 'Utah Jazz', 'Washington Wizards', 'Boston Celtics', 'Dallas Mavericks', 'Minnesota Timberwolves', 'Phoenix Suns', 'New Orleans Pelicans', 'Brooklyn Nets', 'Chicago Bulls', 'Washington Wizards', 'Denver Nuggets', 'New York Knicks', 'Milwaukee Bucks', 'Los Angeles Lakers', 'Sacramento Kings', 'Detroit Pistons', 'Boston Celtics', 'Orlando Magic', 'Minnesota Timberwolves', 'Indiana Pacers', 'Miami Heat', 'Denver Nuggets', 'Detroit Pistons', 'Indiana Pacers', 'Sacramento Kings', 'San Antonio Spurs', 'Utah Jazz', 'Atlanta Hawks', 'Charlotte Hornets', 'Cleveland Cavaliers', 'Golden State Warriors', 'Toronto Raptors', 'Memphis Grizzlies', 'Milwaukee Bucks', 'Dallas Mavericks', 'Los Angeles Clippers', 'Boston Celtics', 'Detroit Pistons', 'New York Knicks', 'San Antonio Spurs', 'Utah Jazz', 'Sacramento Kings', 'Washington Wizards', 'Portland Trail Blazers', 'Miami Heat', 'Los Angeles Clippers', 'Philadelphia 76ers', 'Phoenix Suns', 'Chicago Bulls', 'New York Knicks', 'Boston Celtics', 'Brooklyn Nets', 'Orlando Magic', 'Cleveland Cavaliers', 'Atlanta Hawks', 'Charlotte Hornets', 'Dallas Mavericks', 'Detroit Pistons', 'Phoenix Suns', 'Los Angeles Clippers', 'Memphis Grizzlies', 'Chicago Bulls', 'Minnesota Timberwolves', 'New York Knicks', 'Minnesota Timberwolves', 'Miami Heat', 'Washington Wizards', 'Chicago Bulls', 'Atlanta Hawks', 'Indiana Pacers', 'Dallas Mavericks', 'Memphis Grizzlies', 'Brooklyn Nets', 'Houston Rockets', 'Phoenix Suns', 'San Antonio Spurs', 'Toronto Raptors', 'Atlanta Hawks', 'Dallas Mavericks', 'Detroit Pistons', 'Boston Celtics', 'Orlando Magic', 'Charlotte Hornets', 'Brooklyn Nets', 'Chicago Bulls', 'Detroit Pistons', 'Phoenix Suns', 'New Orleans Pelicans', 'Philadelphia 76ers', 'Sacramento Kings', 'Los Angeles Lakers', 'Minnesota Timberwolves', 'Dallas Mavericks', 'Denver Nuggets', 'Charlotte Hornets', 'Phoenix Suns', 'Philadelphia 76ers', 'Cleveland Cavaliers', 'Orlando Magic', 'Los Angeles Clippers', 'New Orleans Pelicans', 'Brooklyn Nets', 'Denver Nuggets', 'Minnesota Timberwolves', 'Golden State Warriors', 'Oklahoma City Thunder', 'Atlanta Hawks', 'New York Knicks', 'Philadelphia 76ers', 'Miami Heat', 'Memphis Grizzlies', 'Los Angeles Lakers', 'Dallas Mavericks', 'Chicago Bulls', 'Oklahoma City Thunder', 'Memphis Grizzlies', 'Milwaukee Bucks', 'San Antonio Spurs', 'Toronto Raptors', 'Atlanta Hawks', 'Brooklyn Nets', 'Indiana Pacers', 'New York Knicks', 'Oklahoma City Thunder', 'Miami Heat', 'Phoenix Suns', 'Sacramento Kings', 'Portland Trail Blazers', 'Cleveland Cavaliers', 'Golden State Warriors', 'Miami Heat', 'Philadelphia 76ers', 'Chicago Bulls', 'New Orleans Pelicans', 'Orlando Magic', 'Sacramento Kings', 'San Antonio Spurs', 'Portland Trail Blazers', 'Brooklyn Nets', 'New York Knicks', 'Oklahoma City Thunder', 'Phoenix Suns', 'Memphis Grizzlies', 'Charlotte Hornets', 'Portland Trail Blazers', 'Indiana Pacers', 'Dallas Mavericks', 'Miami Heat', 'New Orleans Pelicans', 'Chicago Bulls', 'Memphis Grizzlies', 'Brooklyn Nets', 'Golden State Warriors', 'Phoenix Suns', 'New York Knicks', 'Cleveland Cavaliers', 'Washington Wizards', 'Boston Celtics', 'Minnesota Timberwolves', 'Brooklyn Nets', 'Memphis Grizzlies', 'Miami Heat', 'Phoenix Suns', 'Dallas Mavericks', 'Oklahoma City Thunder', 'Atlanta Hawks', 'Charlotte Hornets', 'New York Knicks', 'Washington Wizards', 'Atlanta Hawks', 'Boston Celtics', 'Minnesota Timberwolves', 'Detroit Pistons', 'Denver Nuggets', 'Milwaukee Bucks', 'New Orleans Pelicans', 'Sacramento Kings', 'Charlotte Hornets', 'Brooklyn Nets', 'Chicago Bulls', 'Los Angeles Lakers', 'San Antonio Spurs', 'Orlando Magic', 'Los Angeles Clippers', 'Phoenix Suns', 'Detroit Pistons', 'Boston Celtics', 'Charlotte Hornets', 'Dallas Mavericks', 'New York Knicks', 'Sacramento Kings', 'Memphis Grizzlies', 'Portland Trail Blazers', 'Brooklyn Nets', 'Orlando Magic', 'Detroit Pistons', 'Phoenix Suns', 'New York Knicks', 'San Antonio Spurs', 'Dallas Mavericks', 'San Antonio Spurs', 'Atlanta Hawks', 'Minnesota Timberwolves', 'Oklahoma City Thunder', 'Miami Heat', 'Boston Celtics', 'Brooklyn Nets', 'Chicago Bulls', 'Atlanta Hawks', 'Sacramento Kings', 'Memphis Grizzlies', 'Los Angeles Lakers', 'New York Knicks', 'Orlando Magic', 'Miami Heat', 'Golden State Warriors', 'Phoenix Suns', 'Milwaukee Bucks', 'Los Angeles Lakers', 'Chicago Bulls', 'Brooklyn Nets', 'Cleveland Cavaliers', 'Los Angeles Clippers', 'Orlando Magic', 'Sacramento Kings', 'San Antonio Spurs', 'Detroit Pistons', 'Minnesota Timberwolves', 'Atlanta Hawks', 'Dallas Mavericks', 'Memphis Grizzlies', 'Miami Heat', 'Phoenix Suns', 'Toronto Raptors', 'Utah Jazz', 'Washington Wizards', 'Oklahoma City Thunder', 'Memphis Grizzlies', 'Chicago Bulls', 'New York Knicks', 'Orlando Magic', 'Phoenix Suns', 'Sacramento Kings', 'Dallas Mavericks', 'Detroit Pistons', 'Cleveland Cavaliers', 'Denver Nuggets', 'Milwaukee Bucks', 'Philadelphia 76ers', 'Atlanta Hawks', 'Memphis Grizzlies', 'Chicago Bulls', 'Indiana Pacers', 'Phoenix Suns', 'New York Knicks', 'Orlando Magic', 'Sacramento Kings', 'Detroit Pistons', 'Utah Jazz', 'Chicago Bulls', 'Brooklyn Nets', 'Denver Nuggets', 'Philadelphia 76ers', 'Milwaukee Bucks', 'Sacramento Kings', 'Indiana Pacers', 'Charlotte Hornets', 'Dallas Mavericks', 'Milwaukee Bucks', 'Los Angeles Clippers', 'Memphis Grizzlies', 'Orlando Magic', 'San Antonio Spurs', 'Washington Wizards', 'Cleveland Cavaliers', 'Miami Heat', 'Minnesota Timberwolves', 'Brooklyn Nets', 'Atlanta Hawks', 'Dallas Mavericks', 'New York Knicks', 'Memphis Grizzlies', 'Milwaukee Bucks', 'Detroit Pistons', 'Charlotte Hornets', 'Phoenix Suns', 'Minnesota Timberwolves', 'Washington Wizards', 'Cleveland Cavaliers', 'Boston Celtics', 'Detroit Pistons', 'Memphis Grizzlies', 'Oklahoma City Thunder', 'Sacramento Kings', 'San Antonio Spurs', 'Phoenix Suns', 'Dallas Mavericks', 'Brooklyn Nets', 'Philadelphia 76ers', 'New York Knicks', 'Charlotte Hornets', 'Washington Wizards', 'Chicago Bulls', 'Detroit Pistons', 'Milwaukee Bucks', 'Los Angeles Lakers', 'Phoenix Suns', 'Memphis Grizzlies', 'Orlando Magic', 'Charlotte Hornets', 'Denver Nuggets', 'Brooklyn Nets', 'Los Angeles Clippers', 'Oklahoma City Thunder', 'New York Knicks', 'Atlanta Hawks', 'Miami Heat', 'Memphis Grizzlies', 'Denver Nuggets', 'Detroit Pistons', 'Indiana Pacers', 'Orlando Magic', 'Milwaukee Bucks', 'Sacramento Kings', 'Charlotte Hornets', 'San Antonio Spurs', 'Philadelphia 76ers', 'Minnesota Timberwolves', 'Phoenix Suns', 'Los Angeles Lakers', 'Chicago Bulls', 'Atlanta Hawks', 'Cleveland Cavaliers', 'Memphis Grizzlies', 'New York Knicks', 'New Orleans Pelicans', 'Golden State Warriors', 'Orlando Magic', 'Houston Rockets', 'Phoenix Suns', 'Memphis Grizzlies', 'Orlando Magic', 'Washington Wizards', 'San Antonio Spurs', 'Atlanta Hawks', 'Boston Celtics', 'Brooklyn Nets', 'Dallas Mavericks', 'Sacramento Kings', 'Cleveland Cavaliers', 'Golden State Warriors', 'New Orleans Pelicans', 'New York Knicks', 'San Antonio Spurs', 'Memphis Grizzlies', 'Sacramento Kings', 'Miami Heat', 'Atlanta Hawks', 'Brooklyn Nets', 'Chicago Bulls', 'Denver Nuggets', 'Charlotte Hornets', 'New York Knicks', 'Philadelphia 76ers', 'Phoenix Suns', 'Orlando Magic', 'Detroit Pistons', 'Washington Wizards', 'Boston Celtics', 'Los Angeles Lakers', 'Milwaukee Bucks', 'Miami Heat', 'Atlanta Hawks', 'Detroit Pistons', 'Los Angeles Clippers', 'Indiana Pacers', 'Memphis Grizzlies', 'New York Knicks', 'Cleveland Cavaliers', 'New Orleans Pelicans', 'Phoenix Suns', 'Golden State Warriors', 'Los Angeles Lakers', 'Los Angeles Clippers', 'Orlando Magic', 'Brooklyn Nets', 'Dallas Mavericks', 'Dallas Mavericks', 'Chicago Bulls', 'Denver Nuggets', 'Atlanta Hawks', 'New Orleans Pelicans', 'Charlotte Hornets', 'Phoenix Suns', 'Detroit Pistons', 'Minnesota Timberwolves', 'Sacramento Kings', 'Indiana Pacers', 'Los Angeles Clippers', 'Minnesota Timberwolves', 'Boston Celtics', 'Toronto Raptors', 'Memphis Grizzlies', 'Milwaukee Bucks', 'Los Angeles Lakers', 'Denver Nuggets', 'Chicago Bulls', 'Charlotte Hornets', 'Sacramento Kings', 'Golden State Warriors', 'Oklahoma City Thunder', 'Los Angeles Clippers', 'Dallas Mavericks', 'Orlando Magic', 'Phoenix Suns', 'Portland Trail Blazers', 'Utah Jazz', 'Brooklyn Nets', 'Chicago Bulls', 'Toronto Raptors', 'New York Knicks', 'Milwaukee Bucks', 'Indiana Pacers', 'Memphis Grizzlies', 'Washington Wizards', 'Memphis Grizzlies', 'Dallas Mavericks', 'Detroit Pistons', 'Los Angeles Lakers', 'Orlando Magic', 'Atlanta Hawks', 'Chicago Bulls', 'Phoenix Suns', 'Atlanta Hawks', 'Los Angeles Clippers', 'New York Knicks', 'Miami Heat', 'Portland Trail Blazers', 'Utah Jazz', 'Brooklyn Nets', 'Washington Wizards', 'Dallas Mavericks', 'Chicago Bulls', 'New Orleans Pelicans', 'Memphis Grizzlies', 'Phoenix Suns', 'Minnesota Timberwolves', 'Brooklyn Nets', 'Golden State Warriors', 'Atlanta Hawks', 'Miami Heat', 'San Antonio Spurs', 'Oklahoma City Thunder', 'Sacramento Kings', 'Toronto Raptors', 'Washington Wizards', 'New York Knicks', 'Los Angeles Lakers', 'Minnesota Timberwolves', 'Denver Nuggets', 'Phoenix Suns', 'Golden State Warriors', 'Chicago Bulls', 'Milwaukee Bucks', 'Cleveland Cavaliers', 'New Orleans Pelicans', 'Sacramento Kings', 'Denver Nuggets', 'San Antonio Spurs', 'Charlotte Hornets', 'Dallas Mavericks', 'Portland Trail Blazers', 'Atlanta Hawks', 'Orlando Magic', 'New York Knicks', 'Phoenix Suns', 'Utah Jazz', 'Washington Wizards', 'Golden State Warriors', 'Chicago Bulls', 'Sacramento Kings', 'Oklahoma City Thunder', 'Atlanta Hawks', 'New Orleans Pelicans', 'Dallas Mavericks', 'Phoenix Suns', 'Los Angeles Lakers', 'Oklahoma City Thunder', 'Orlando Magic', 'Los Angeles Clippers', 'Memphis Grizzlies', 'Toronto Raptors', 'Miami Heat', 'New York Knicks', 'Sacramento Kings', 'Charlotte Hornets', 'Orlando Magic', 'Brooklyn Nets', 'Washington Wizards', 'Charlotte Hornets', 'Dallas Mavericks', 'Milwaukee Bucks', 'Phoenix Suns', 'Los Angeles Clippers', 'Los Angeles Lakers', 'Minnesota Timberwolves', 'New Orleans Pelicans', 'Memphis Grizzlies', 'Houston Rockets', 'Charlotte Hornets', 'Toronto Raptors', 'Portland Trail Blazers', 'Indiana Pacers', 'Washington Wizards', 'San Antonio Spurs', 'Atlanta Hawks', 'Boston Celtics', 'New York Knicks', 'Oklahoma City Thunder', 'Brooklyn Nets', 'Sacramento Kings', 'Los Angeles Lakers', 'Atlanta Hawks', 'Detroit Pistons', 'San Antonio Spurs', 'Memphis Grizzlies', 'Dallas Mavericks', 'Boston Celtics', 'Washington Wizards', 'Minnesota Timberwolves', 'Portland Trail Blazers', 'Golden State Warriors', 'Milwaukee Bucks', 'Los Angeles Clippers', 'Chicago Bulls', 'Dallas Mavericks', 'Los Angeles Lakers', 'Memphis Grizzlies', 'Miami Heat', 'Orlando Magic', 'Cleveland Cavaliers', 'Phoenix Suns', 'Indiana Pacers', 'Washington Wizards', 'Chicago Bulls', 'Golden State Warriors', 'Houston Rockets', 'Los Angeles Clippers', 'New York Knicks', 'Portland Trail Blazers', 'Boston Celtics', 'Charlotte Hornets', 'Los Angeles Lakers', 'Detroit Pistons', 'Dallas Mavericks', 'Phoenix Suns', 'Orlando Magic', 'Chicago Bulls', 'Portland Trail Blazers', 'Detroit Pistons', 'Los Angeles Clippers', 'Miami Heat', 'Orlando Magic', 'Memphis Grizzlies', 'New York Knicks', 'Sacramento Kings', 'Atlanta Hawks', 'Dallas Mavericks', 'Indiana Pacers', 'Los Angeles Lakers', 'Golden State Warriors', 'Boston Celtics', 'Brooklyn Nets', 'Chicago Bulls', 'Cleveland Cavaliers', 'Los Angeles Clippers', 'Toronto Raptors', 'Denver Nuggets', 'San Antonio Spurs', 'Memphis Grizzlies', 'Washington Wizards', 'Milwaukee Bucks', 'Utah Jazz', 'Houston Rockets']\n"
     ]
    }
   ],
   "source": [
    "print(losing_team)"
   ]
  },
  {
   "cell_type": "code",
   "execution_count": 22,
   "metadata": {
    "collapsed": true
   },
   "outputs": [],
   "source": [
    "result_df = pd.DataFrame(\n",
    "    {'WTeam': wining_team,\n",
    "     'LTeam': losing_team,\n",
    "     'WLoc': field\n",
    "    })"
   ]
  },
  {
   "cell_type": "code",
   "execution_count": 23,
   "metadata": {},
   "outputs": [
    {
     "name": "stdout",
     "output_type": "stream",
     "text": [
      "                       LTeam WLoc                   WTeam\n",
      "0             Boston Celtics    H     Cleveland Cavaliers\n",
      "1      Golden State Warriors    V         Houston Rockets\n",
      "2             Boston Celtics    V         Milwaukee Bucks\n",
      "3           Dallas Mavericks    V           Atlanta Hawks\n",
      "4          Charlotte Hornets    H         Detroit Pistons\n",
      "5              Brooklyn Nets    H          Indiana Pacers\n",
      "6       New Orleans Pelicans    H       Memphis Grizzlies\n",
      "7                 Miami Heat    H           Orlando Magic\n",
      "8               Phoenix Suns    V  Portland Trail Blazers\n",
      "9           Sacramento Kings    V         Houston Rockets\n",
      "10    Minnesota Timberwolves    H       San Antonio Spurs\n",
      "11            Denver Nuggets    H               Utah Jazz\n",
      "12        Philadelphia 76ers    H      Washington Wizards\n",
      "13        Los Angeles Lakers    V    Los Angeles Clippers\n",
      "14           New York Knicks    H   Oklahoma City Thunder\n",
      "15             Chicago Bulls    H         Toronto Raptors\n",
      "16             Orlando Magic    H           Brooklyn Nets\n",
      "17             Atlanta Hawks    H       Charlotte Hornets\n",
      "18          Dallas Mavericks    V        Sacramento Kings\n",
      "19            Indiana Pacers    V  Portland Trail Blazers\n",
      "20           Milwaukee Bucks    V     Cleveland Cavaliers\n",
      "21                 Utah Jazz    H  Minnesota Timberwolves\n",
      "22      New Orleans Pelicans    V   Golden State Warriors\n",
      "23        Philadelphia 76ers    V          Boston Celtics\n",
      "24              Phoenix Suns    V      Los Angeles Lakers\n",
      "25           Detroit Pistons    H      Washington Wizards\n",
      "26             Chicago Bulls    V       San Antonio Spurs\n",
      "27       Cleveland Cavaliers    V           Orlando Magic\n",
      "28          Sacramento Kings    H          Denver Nuggets\n",
      "29          Dallas Mavericks    H         Houston Rockets\n",
      "...                      ...  ...                     ...\n",
      "1200        Dallas Mavericks    H      Philadelphia 76ers\n",
      "1201            Phoenix Suns    V   Golden State Warriors\n",
      "1202           Orlando Magic    H         Toronto Raptors\n",
      "1203           Chicago Bulls    H           Brooklyn Nets\n",
      "1204  Portland Trail Blazers    H          Denver Nuggets\n",
      "1205         Detroit Pistons    V         Toronto Raptors\n",
      "1206    Los Angeles Clippers    V    New Orleans Pelicans\n",
      "1207              Miami Heat    V   Oklahoma City Thunder\n",
      "1208           Orlando Magic    H         Milwaukee Bucks\n",
      "1209       Memphis Grizzlies    H  Minnesota Timberwolves\n",
      "1210         New York Knicks    V     Cleveland Cavaliers\n",
      "1211        Sacramento Kings    H       San Antonio Spurs\n",
      "1212           Atlanta Hawks    V      Philadelphia 76ers\n",
      "1213        Dallas Mavericks    V            Phoenix Suns\n",
      "1214          Indiana Pacers    V       Charlotte Hornets\n",
      "1215      Los Angeles Lakers    V         Houston Rockets\n",
      "1216   Golden State Warriors    H               Utah Jazz\n",
      "1217          Boston Celtics    H      Washington Wizards\n",
      "1218           Brooklyn Nets    H          Boston Celtics\n",
      "1219           Chicago Bulls    V         Detroit Pistons\n",
      "1220     Cleveland Cavaliers    V         New York Knicks\n",
      "1221    Los Angeles Clippers    V      Los Angeles Lakers\n",
      "1222         Toronto Raptors    H              Miami Heat\n",
      "1223          Denver Nuggets    H  Minnesota Timberwolves\n",
      "1224       San Antonio Spurs    H    New Orleans Pelicans\n",
      "1225       Memphis Grizzlies    H   Oklahoma City Thunder\n",
      "1226      Washington Wizards    H           Orlando Magic\n",
      "1227         Milwaukee Bucks    H      Philadelphia 76ers\n",
      "1228               Utah Jazz    H  Portland Trail Blazers\n",
      "1229         Houston Rockets    H        Sacramento Kings\n",
      "\n",
      "[1230 rows x 3 columns]\n"
     ]
    }
   ],
   "source": [
    "print(result_df)"
   ]
  },
  {
   "cell_type": "code",
   "execution_count": 20,
   "metadata": {
    "collapsed": true
   },
   "outputs": [],
   "source": [
    "result_df2 = pd.DataFrame(list(zip(wining_team, losing_team, field)),\n",
    "              columns=['WTeam','LTeam', 'WLoc'])"
   ]
  },
  {
   "cell_type": "code",
   "execution_count": 21,
   "metadata": {},
   "outputs": [
    {
     "name": "stdout",
     "output_type": "stream",
     "text": [
      "                       WTeam                   LTeam WLoc\n",
      "0        Cleveland Cavaliers          Boston Celtics    H\n",
      "1            Houston Rockets   Golden State Warriors    V\n",
      "2            Milwaukee Bucks          Boston Celtics    V\n",
      "3              Atlanta Hawks        Dallas Mavericks    V\n",
      "4            Detroit Pistons       Charlotte Hornets    H\n",
      "5             Indiana Pacers           Brooklyn Nets    H\n",
      "6          Memphis Grizzlies    New Orleans Pelicans    H\n",
      "7              Orlando Magic              Miami Heat    H\n",
      "8     Portland Trail Blazers            Phoenix Suns    V\n",
      "9            Houston Rockets        Sacramento Kings    V\n",
      "10         San Antonio Spurs  Minnesota Timberwolves    H\n",
      "11                 Utah Jazz          Denver Nuggets    H\n",
      "12        Washington Wizards      Philadelphia 76ers    H\n",
      "13      Los Angeles Clippers      Los Angeles Lakers    V\n",
      "14     Oklahoma City Thunder         New York Knicks    H\n",
      "15           Toronto Raptors           Chicago Bulls    H\n",
      "16             Brooklyn Nets           Orlando Magic    H\n",
      "17         Charlotte Hornets           Atlanta Hawks    H\n",
      "18          Sacramento Kings        Dallas Mavericks    V\n",
      "19    Portland Trail Blazers          Indiana Pacers    V\n",
      "20       Cleveland Cavaliers         Milwaukee Bucks    V\n",
      "21    Minnesota Timberwolves               Utah Jazz    H\n",
      "22     Golden State Warriors    New Orleans Pelicans    V\n",
      "23            Boston Celtics      Philadelphia 76ers    V\n",
      "24        Los Angeles Lakers            Phoenix Suns    V\n",
      "25        Washington Wizards         Detroit Pistons    H\n",
      "26         San Antonio Spurs           Chicago Bulls    V\n",
      "27             Orlando Magic     Cleveland Cavaliers    V\n",
      "28            Denver Nuggets        Sacramento Kings    H\n",
      "29           Houston Rockets        Dallas Mavericks    H\n",
      "...                      ...                     ...  ...\n",
      "1200      Philadelphia 76ers        Dallas Mavericks    H\n",
      "1201   Golden State Warriors            Phoenix Suns    V\n",
      "1202         Toronto Raptors           Orlando Magic    H\n",
      "1203           Brooklyn Nets           Chicago Bulls    H\n",
      "1204          Denver Nuggets  Portland Trail Blazers    H\n",
      "1205         Toronto Raptors         Detroit Pistons    V\n",
      "1206    New Orleans Pelicans    Los Angeles Clippers    V\n",
      "1207   Oklahoma City Thunder              Miami Heat    V\n",
      "1208         Milwaukee Bucks           Orlando Magic    H\n",
      "1209  Minnesota Timberwolves       Memphis Grizzlies    H\n",
      "1210     Cleveland Cavaliers         New York Knicks    V\n",
      "1211       San Antonio Spurs        Sacramento Kings    H\n",
      "1212      Philadelphia 76ers           Atlanta Hawks    V\n",
      "1213            Phoenix Suns        Dallas Mavericks    V\n",
      "1214       Charlotte Hornets          Indiana Pacers    V\n",
      "1215         Houston Rockets      Los Angeles Lakers    V\n",
      "1216               Utah Jazz   Golden State Warriors    H\n",
      "1217      Washington Wizards          Boston Celtics    H\n",
      "1218          Boston Celtics           Brooklyn Nets    H\n",
      "1219         Detroit Pistons           Chicago Bulls    V\n",
      "1220         New York Knicks     Cleveland Cavaliers    V\n",
      "1221      Los Angeles Lakers    Los Angeles Clippers    V\n",
      "1222              Miami Heat         Toronto Raptors    H\n",
      "1223  Minnesota Timberwolves          Denver Nuggets    H\n",
      "1224    New Orleans Pelicans       San Antonio Spurs    H\n",
      "1225   Oklahoma City Thunder       Memphis Grizzlies    H\n",
      "1226           Orlando Magic      Washington Wizards    H\n",
      "1227      Philadelphia 76ers         Milwaukee Bucks    H\n",
      "1228  Portland Trail Blazers               Utah Jazz    H\n",
      "1229        Sacramento Kings         Houston Rockets    H\n",
      "\n",
      "[1230 rows x 3 columns]\n"
     ]
    }
   ],
   "source": [
    "print(result_df2)"
   ]
  },
  {
   "cell_type": "code",
   "execution_count": 24,
   "metadata": {
    "collapsed": true
   },
   "outputs": [],
   "source": [
    "result_df2.to_csv('2017-18_result.csv', encoding='utf-8', index=False)"
   ]
  },
  {
   "cell_type": "code",
   "execution_count": 25,
   "metadata": {
    "collapsed": true
   },
   "outputs": [],
   "source": [
    "del result_df2, result_df, wining_team, losing_team, field"
   ]
  }
 ],
 "metadata": {
  "kernelspec": {
   "display_name": "Python 3",
   "language": "python",
   "name": "python3"
  },
  "language_info": {
   "codemirror_mode": {
    "name": "ipython",
    "version": 3
   },
   "file_extension": ".py",
   "mimetype": "text/x-python",
   "name": "python",
   "nbconvert_exporter": "python",
   "pygments_lexer": "ipython3",
   "version": "3.6.3"
  }
 },
 "nbformat": 4,
 "nbformat_minor": 2
}
