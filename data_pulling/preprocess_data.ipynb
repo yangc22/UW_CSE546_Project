{
 "cells": [
  {
   "cell_type": "code",
   "execution_count": 1,
   "metadata": {
    "collapsed": true
   },
   "outputs": [],
   "source": [
    "import pandas as pd\n",
    "import numpy as np"
   ]
  },
  {
   "cell_type": "code",
   "execution_count": 37,
   "metadata": {
    "collapsed": true
   },
   "outputs": [],
   "source": [
    "def combine_all_stats():\n",
    "    rows = 0\n",
    "    ct = 1\n",
    "    input_folder = 'team_game_logs_combined'\n",
    "    file_name = 'team_game_log'\n",
    "    input_format = 'csv'\n",
    "    team_name = 'ATL'\n",
    "    df = pd.read_csv(\"{}/{}_{}.{}\".format(input_folder, file_name, team_name, input_format))\n",
    "    print(team_name, ct, df.shape)\n",
    "    rows += df.shape[0]\n",
    "    ct += 1\n",
    "    teams_all = '''BOS\n",
    "BRO\n",
    "CHA\n",
    "CHI\n",
    "CLE\n",
    "DAL\n",
    "DEN\n",
    "DET\n",
    "GSW\n",
    "HOU\n",
    "IND\n",
    "LAC\n",
    "LAL\n",
    "MEM\n",
    "MIA\n",
    "MIL\n",
    "MIN\n",
    "NOP\n",
    "NYK\n",
    "OKL\n",
    "ORL\n",
    "PHI\n",
    "PHX\n",
    "POR\n",
    "SAC\n",
    "SAS\n",
    "TOR\n",
    "UTA\n",
    "WAS\n",
    "'''\n",
    "    teams = teams_all.splitlines()\n",
    "    for team_name in teams:\n",
    "        df_team = pd.read_csv(\"{}/{}_{}.{}\".format(input_folder, file_name, team_name, input_format))\n",
    "        print(team_name, ct, df_team.shape)\n",
    "        rows += df_team.shape[0]\n",
    "        ct += 1\n",
    "        df = df.append(df_team, ignore_index=True)\n",
    "    print(ct, rows)\n",
    "    print(df.shape)\n",
    "    output_folder = 'combined_stats'\n",
    "    output_format = 'csv'\n",
    "    df.to_csv(\"{}/{}_{}.{}\".format(output_folder, 'combined', file_name, output_format), encoding='utf-8', index=False)\n",
    "    # return df"
   ]
  },
  {
   "cell_type": "code",
   "execution_count": 41,
   "metadata": {},
   "outputs": [
    {
     "name": "stdout",
     "output_type": "stream",
     "text": [
      "ATL 1 (107, 44)\n",
      "BOS 2 (106, 44)\n",
      "BRO 3 (109, 44)\n",
      "CHA 4 (107, 44)\n",
      "CHI 5 (108, 44)\n",
      "CLE 6 (107, 44)\n",
      "DAL 7 (105, 44)\n",
      "DEN 8 (107, 44)\n",
      "DET 9 (105, 44)\n",
      "GSW 10 (109, 44)\n",
      "HOU 11 (106, 44)\n",
      "IND 12 (107, 44)\n",
      "LAC 13 (106, 44)\n",
      "LAL 14 (107, 44)\n",
      "MEM 15 (106, 44)\n",
      "MIA 16 (106, 44)\n",
      "MIL 17 (106, 44)\n",
      "MIN 18 (107, 44)\n",
      "NOP 19 (109, 44)\n",
      "NYK 20 (108, 44)\n",
      "OKL 21 (106, 44)\n",
      "ORL 22 (108, 44)\n",
      "PHI 23 (109, 44)\n",
      "PHX 24 (108, 44)\n",
      "POR 25 (107, 44)\n",
      "SAC 26 (106, 44)\n",
      "SAS 27 (108, 44)\n",
      "TOR 28 (109, 44)\n",
      "UTA 29 (108, 44)\n",
      "WAS 30 (107, 44)\n",
      "31 3214\n",
      "(3214, 44)\n"
     ]
    }
   ],
   "source": [
    "combine_all_stats()\n",
    "del df"
   ]
  },
  {
   "cell_type": "code",
   "execution_count": 43,
   "metadata": {
    "collapsed": true
   },
   "outputs": [],
   "source": [
    "def get_season_games():\n",
    "    file_name = 'season_games'\n",
    "    input_folder = ''\n",
    "    input_format = 'csv'\n",
    "    df = pd.read_csv(\"{}{}_{}.{}\".format(input_folder, 'combined', file_name, input_format))\n",
    "    return df\n",
    "def get_all_stats():\n",
    "    file_name = 'team_game_log'\n",
    "    input_folder = 'combined_stats'\n",
    "    input_format = 'csv'\n",
    "    df = pd.read_csv(\"{}/{}_{}.{}\".format(input_folder, 'combined', file_name, input_format))\n",
    "    return df"
   ]
  },
  {
   "cell_type": "code",
   "execution_count": 44,
   "metadata": {},
   "outputs": [],
   "source": [
    "df_games = get_season_games()\n",
    "df_stats = get_all_stats()"
   ]
  },
  {
   "cell_type": "code",
   "execution_count": 82,
   "metadata": {},
   "outputs": [
    {
     "data": {
      "text/plain": [
       "schedule.awayTeam.abbreviation                         BOS\n",
       "schedule.awayTeam.id                                    82\n",
       "schedule.homeTeam.abbreviation                         CLE\n",
       "schedule.homeTeam.id                                    86\n",
       "schedule.id                                          42070\n",
       "schedule.playedStatus                            COMPLETED\n",
       "schedule.scheduleStatus                             NORMAL\n",
       "schedule.startTime                2017-10-18T00:00:00.000Z\n",
       "schedule.venue.id                                       80\n",
       "schedule.venue.name                    Quicken Loans Arena\n",
       "schedule.venueAllegiance                              HOME\n",
       "score.awayScoreTotal                                    99\n",
       "score.homeScoreTotal                                   102\n",
       "Name: 0, dtype: object"
      ]
     },
     "execution_count": 82,
     "metadata": {},
     "output_type": "execute_result"
    }
   ],
   "source": [
    "df_games.loc[0]"
   ]
  },
  {
   "cell_type": "code",
   "execution_count": 83,
   "metadata": {},
   "outputs": [
    {
     "name": "stdout",
     "output_type": "stream",
     "text": [
      "102.0 99.0 True\n"
     ]
    }
   ],
   "source": [
    "hs = df_games.loc[0]['score.homeScoreTotal']\n",
    "vs = df_games.loc[0]['score.awayScoreTotal']\n",
    "print(hs, vs, hs > vs)"
   ]
  },
  {
   "cell_type": "code",
   "execution_count": 52,
   "metadata": {},
   "outputs": [
    {
     "data": {
      "text/plain": [
       "game.awayTeamAbbreviation                                  ATL\n",
       "game.homeTeamAbbreviation                                  DAL\n",
       "game.id                                                  42078\n",
       "game.startTime                        2017-10-19T00:30:00.000Z\n",
       "stats.defense.blk                                            6\n",
       "stats.defense.blkAgainst                                     4\n",
       "stats.defense.ptsAgainst                                   111\n",
       "stats.defense.stl                                           11\n",
       "stats.defense.tov                                           13\n",
       "stats.fieldGoals.fg2PtAtt                                   76\n",
       "stats.fieldGoals.fg2PtMade                                  39\n",
       "stats.fieldGoals.fg2PtPct                                 51.3\n",
       "stats.fieldGoals.fg3PtAtt                                   18\n",
       "stats.fieldGoals.fg3PtMade                                   9\n",
       "stats.fieldGoals.fg3PtPct                                   50\n",
       "stats.fieldGoals.fgAtt                                      94\n",
       "stats.fieldGoals.fgMade                                     48\n",
       "stats.fieldGoals.fgPct                                    51.1\n",
       "stats.freeThrows.ftAtt                                      15\n",
       "stats.freeThrows.ftMade                                     12\n",
       "stats.freeThrows.ftPct                                      80\n",
       "stats.miscellaneous.ejections                                0\n",
       "stats.miscellaneous.foulFlag1                                0\n",
       "stats.miscellaneous.foulFlag1Drawn                           0\n",
       "stats.miscellaneous.foulFlag2                                0\n",
       "stats.miscellaneous.foulFlag2Drawn                           0\n",
       "stats.miscellaneous.foulPers                                18\n",
       "stats.miscellaneous.foulPersDrawn                           19\n",
       "stats.miscellaneous.foulTech                                18\n",
       "stats.miscellaneous.foulTechDrawn                            0\n",
       "stats.miscellaneous.fouls                                   20\n",
       "stats.miscellaneous.foulsDrawn                              19\n",
       "stats.miscellaneous.plusMinus                                6\n",
       "stats.offense.ast                                           20\n",
       "stats.offense.pts                                          117\n",
       "stats.rebounds.defReb                                       39\n",
       "stats.rebounds.offReb                                       14\n",
       "stats.rebounds.reb                                          54\n",
       "stats.standings.gamesBack                                    0\n",
       "stats.standings.losses                                       0\n",
       "stats.standings.winPct                                       1\n",
       "stats.standings.wins                                         1\n",
       "team.abbreviation                                          ATL\n",
       "team.id                                                     91\n",
       "Name: 0, dtype: object"
      ]
     },
     "execution_count": 52,
     "metadata": {},
     "output_type": "execute_result"
    }
   ],
   "source": [
    "df_stats.loc[0]"
   ]
  },
  {
   "cell_type": "code",
   "execution_count": 126,
   "metadata": {},
   "outputs": [
    {
     "name": "stdout",
     "output_type": "stream",
     "text": [
      "2017-10-18T00:00:00.000Z 537    True\n",
      "Name: game.startTime, dtype: bool\n"
     ]
    }
   ],
   "source": [
    "game0_time = df_games.loc[0]['schedule.startTime']\n",
    "df_0 = df_stats[(df_stats['team.abbreviation'] == df_games.loc[0]['schedule.homeTeam.abbreviation']) & (df_stats['game.id'] == df_games.loc[0]['schedule.id'])]\n",
    "print(game0_time,  df_0['game.startTime'] == game0_time)"
   ]
  },
  {
   "cell_type": "code",
   "execution_count": 104,
   "metadata": {},
   "outputs": [
    {
     "data": {
      "text/html": [
       "<div>\n",
       "<style>\n",
       "    .dataframe thead tr:only-child th {\n",
       "        text-align: right;\n",
       "    }\n",
       "\n",
       "    .dataframe thead th {\n",
       "        text-align: left;\n",
       "    }\n",
       "\n",
       "    .dataframe tbody tr th {\n",
       "        vertical-align: top;\n",
       "    }\n",
       "</style>\n",
       "<table border=\"1\" class=\"dataframe\">\n",
       "  <thead>\n",
       "    <tr style=\"text-align: right;\">\n",
       "      <th></th>\n",
       "      <th>game.awayTeamAbbreviation</th>\n",
       "      <th>game.homeTeamAbbreviation</th>\n",
       "      <th>game.id</th>\n",
       "      <th>game.startTime</th>\n",
       "      <th>stats.defense.blk</th>\n",
       "      <th>stats.defense.blkAgainst</th>\n",
       "      <th>stats.defense.ptsAgainst</th>\n",
       "      <th>stats.defense.stl</th>\n",
       "      <th>stats.defense.tov</th>\n",
       "      <th>stats.fieldGoals.fg2PtAtt</th>\n",
       "      <th>...</th>\n",
       "      <th>stats.offense.pts</th>\n",
       "      <th>stats.rebounds.defReb</th>\n",
       "      <th>stats.rebounds.offReb</th>\n",
       "      <th>stats.rebounds.reb</th>\n",
       "      <th>stats.standings.gamesBack</th>\n",
       "      <th>stats.standings.losses</th>\n",
       "      <th>stats.standings.winPct</th>\n",
       "      <th>stats.standings.wins</th>\n",
       "      <th>team.abbreviation</th>\n",
       "      <th>team.id</th>\n",
       "    </tr>\n",
       "  </thead>\n",
       "  <tbody>\n",
       "    <tr>\n",
       "      <th>537</th>\n",
       "      <td>BOS</td>\n",
       "      <td>CLE</td>\n",
       "      <td>42070</td>\n",
       "      <td>2017-10-18T00:00:00.000Z</td>\n",
       "      <td>4</td>\n",
       "      <td>4</td>\n",
       "      <td>99</td>\n",
       "      <td>3</td>\n",
       "      <td>17</td>\n",
       "      <td>61</td>\n",
       "      <td>...</td>\n",
       "      <td>102</td>\n",
       "      <td>43</td>\n",
       "      <td>12</td>\n",
       "      <td>55</td>\n",
       "      <td>0</td>\n",
       "      <td>0</td>\n",
       "      <td>1</td>\n",
       "      <td>1</td>\n",
       "      <td>CLE</td>\n",
       "      <td>86</td>\n",
       "    </tr>\n",
       "  </tbody>\n",
       "</table>\n",
       "<p>1 rows × 44 columns</p>\n",
       "</div>"
      ],
      "text/plain": [
       "    game.awayTeamAbbreviation game.homeTeamAbbreviation  game.id  \\\n",
       "537                       BOS                       CLE    42070   \n",
       "\n",
       "               game.startTime  stats.defense.blk  stats.defense.blkAgainst  \\\n",
       "537  2017-10-18T00:00:00.000Z                  4                         4   \n",
       "\n",
       "     stats.defense.ptsAgainst  stats.defense.stl  stats.defense.tov  \\\n",
       "537                        99                  3                 17   \n",
       "\n",
       "     stats.fieldGoals.fg2PtAtt   ...     stats.offense.pts  \\\n",
       "537                         61   ...                   102   \n",
       "\n",
       "     stats.rebounds.defReb  stats.rebounds.offReb  stats.rebounds.reb  \\\n",
       "537                     43                     12                  55   \n",
       "\n",
       "     stats.standings.gamesBack  stats.standings.losses  \\\n",
       "537                          0                       0   \n",
       "\n",
       "     stats.standings.winPct  stats.standings.wins  team.abbreviation  team.id  \n",
       "537                       1                     1                CLE       86  \n",
       "\n",
       "[1 rows x 44 columns]"
      ]
     },
     "execution_count": 104,
     "metadata": {},
     "output_type": "execute_result"
    }
   ],
   "source": [
    "df_stats[(df_stats['team.abbreviation'] == df_games.loc[0]['schedule.homeTeam.abbreviation']) & (df_stats['game.id'] == df_games.loc[0]['schedule.id'])]"
   ]
  },
  {
   "cell_type": "code",
   "execution_count": 55,
   "metadata": {},
   "outputs": [
    {
     "data": {
      "text/html": [
       "<div>\n",
       "<style>\n",
       "    .dataframe thead tr:only-child th {\n",
       "        text-align: right;\n",
       "    }\n",
       "\n",
       "    .dataframe thead th {\n",
       "        text-align: left;\n",
       "    }\n",
       "\n",
       "    .dataframe tbody tr th {\n",
       "        vertical-align: top;\n",
       "    }\n",
       "</style>\n",
       "<table border=\"1\" class=\"dataframe\">\n",
       "  <thead>\n",
       "    <tr style=\"text-align: right;\">\n",
       "      <th></th>\n",
       "      <th>game.awayTeamAbbreviation</th>\n",
       "      <th>game.homeTeamAbbreviation</th>\n",
       "      <th>game.id</th>\n",
       "      <th>game.startTime</th>\n",
       "      <th>stats.defense.blk</th>\n",
       "      <th>stats.defense.blkAgainst</th>\n",
       "      <th>stats.defense.ptsAgainst</th>\n",
       "      <th>stats.defense.stl</th>\n",
       "      <th>stats.defense.tov</th>\n",
       "      <th>stats.fieldGoals.fg2PtAtt</th>\n",
       "      <th>...</th>\n",
       "      <th>stats.offense.pts</th>\n",
       "      <th>stats.rebounds.defReb</th>\n",
       "      <th>stats.rebounds.offReb</th>\n",
       "      <th>stats.rebounds.reb</th>\n",
       "      <th>stats.standings.gamesBack</th>\n",
       "      <th>stats.standings.losses</th>\n",
       "      <th>stats.standings.winPct</th>\n",
       "      <th>stats.standings.wins</th>\n",
       "      <th>team.abbreviation</th>\n",
       "      <th>team.id</th>\n",
       "    </tr>\n",
       "  </thead>\n",
       "  <tbody>\n",
       "    <tr>\n",
       "      <th>107</th>\n",
       "      <td>BOS</td>\n",
       "      <td>CLE</td>\n",
       "      <td>42070</td>\n",
       "      <td>2017-10-18T00:00:00.000Z</td>\n",
       "      <td>4</td>\n",
       "      <td>4</td>\n",
       "      <td>102</td>\n",
       "      <td>11</td>\n",
       "      <td>10</td>\n",
       "      <td>56</td>\n",
       "      <td>...</td>\n",
       "      <td>99</td>\n",
       "      <td>37</td>\n",
       "      <td>15</td>\n",
       "      <td>52</td>\n",
       "      <td>0</td>\n",
       "      <td>1</td>\n",
       "      <td>0</td>\n",
       "      <td>0</td>\n",
       "      <td>BOS</td>\n",
       "      <td>82</td>\n",
       "    </tr>\n",
       "  </tbody>\n",
       "</table>\n",
       "<p>1 rows × 44 columns</p>\n",
       "</div>"
      ],
      "text/plain": [
       "    game.awayTeamAbbreviation game.homeTeamAbbreviation  game.id  \\\n",
       "107                       BOS                       CLE    42070   \n",
       "\n",
       "               game.startTime  stats.defense.blk  stats.defense.blkAgainst  \\\n",
       "107  2017-10-18T00:00:00.000Z                  4                         4   \n",
       "\n",
       "     stats.defense.ptsAgainst  stats.defense.stl  stats.defense.tov  \\\n",
       "107                       102                 11                 10   \n",
       "\n",
       "     stats.fieldGoals.fg2PtAtt   ...     stats.offense.pts  \\\n",
       "107                         56   ...                    99   \n",
       "\n",
       "     stats.rebounds.defReb  stats.rebounds.offReb  stats.rebounds.reb  \\\n",
       "107                     37                     15                  52   \n",
       "\n",
       "     stats.standings.gamesBack  stats.standings.losses  \\\n",
       "107                          0                       1   \n",
       "\n",
       "     stats.standings.winPct  stats.standings.wins  team.abbreviation  team.id  \n",
       "107                       0                     0                BOS       82  \n",
       "\n",
       "[1 rows x 44 columns]"
      ]
     },
     "execution_count": 55,
     "metadata": {},
     "output_type": "execute_result"
    }
   ],
   "source": [
    "df_stats[(df_stats['team.abbreviation'] == df_games.loc[0]['schedule.awayTeam.abbreviation']) & (df_stats['game.id'] == df_games.loc[0]['schedule.id'])]"
   ]
  },
  {
   "cell_type": "code",
   "execution_count": 56,
   "metadata": {
    "collapsed": true
   },
   "outputs": [],
   "source": [
    "df_test = df_stats[(df_stats['team.abbreviation'] == df_games.loc[0]['schedule.awayTeam.abbreviation']) & (df_stats['game.id'] == df_games.loc[0]['schedule.id'])]"
   ]
  },
  {
   "cell_type": "code",
   "execution_count": 62,
   "metadata": {
    "collapsed": true
   },
   "outputs": [],
   "source": [
    "# 2018-11-16T01:00:00.000Z - split training and validation\n",
    "# 2018-12-01T00:00:00.000Z - split validation and test\n",
    "df_games_training = df_games[df_games['schedule.startTime'] < '2018-11-16T01:00:00.000Z']\n",
    "df_games_validation = df_games[(df_games['schedule.startTime'] >= '2018-11-16T01:00:00.000Z') & (df_games['schedule.startTime'] < '2018-12-01T00:00:00.000Z')]\n",
    "df_games_test = df_games[df_games['schedule.startTime'] >= '2018-12-01T00:00:00.000Z']"
   ]
  },
  {
   "cell_type": "code",
   "execution_count": 64,
   "metadata": {},
   "outputs": [
    {
     "name": "stdout",
     "output_type": "stream",
     "text": [
      "(1607, 13) (1442, 13) (106, 13) (59, 13)\n"
     ]
    }
   ],
   "source": [
    "print(df_games.shape, df_games_training.shape, df_games_validation.shape, df_games_test.shape)"
   ]
  },
  {
   "cell_type": "code",
   "execution_count": 68,
   "metadata": {
    "collapsed": true
   },
   "outputs": [],
   "source": [
    "def slplt_games(date_val, date_test):\n",
    "    file_name = 'season_games'\n",
    "    input_folder = ''\n",
    "    input_format = 'csv'\n",
    "    df_games = pd.read_csv(\"{}{}_{}.{}\".format(input_folder, 'combined', file_name, input_format))\n",
    "    # generate data frame for training, validation, and test set\n",
    "    # according to the date\n",
    "    df_games_training = df_games[df_games['schedule.startTime'] < date_val]\n",
    "    df_games_validation = df_games[(df_games['schedule.startTime'] >= date_val) & (df_games['schedule.startTime'] < date_test)]\n",
    "    df_games_test = df_games[df_games['schedule.startTime'] >= date_test]\n",
    "    # save all the dataframes to the disk\n",
    "    print(df_games.shape, df_games_training.shape, df_games_validation.shape, df_games_test.shape)\n",
    "    output_folder = 'combined_stats'\n",
    "    output_format = 'csv'\n",
    "    df_games.to_csv(\"{}/{}_{}.{}\".format(output_folder, 'combined', file_name, output_format), encoding='utf-8', index=False)\n",
    "    df_games_training.to_csv(\"{}/{}_{}.{}\".format(output_folder, 'training', file_name, output_format), encoding='utf-8', index=False)\n",
    "    df_games_validation.to_csv(\"{}/{}_{}.{}\".format(output_folder, 'validation', file_name, output_format), encoding='utf-8', index=False)\n",
    "    df_games_test.to_csv(\"{}/{}_{}.{}\".format(output_folder, 'test', file_name, output_format), encoding='utf-8', index=False)"
   ]
  },
  {
   "cell_type": "code",
   "execution_count": 69,
   "metadata": {},
   "outputs": [
    {
     "name": "stdout",
     "output_type": "stream",
     "text": [
      "(1607, 13) (1442, 13) (106, 13) (59, 13)\n"
     ]
    }
   ],
   "source": [
    "slplt_games('2018-11-16T01:00:00.000Z', '2018-12-01T00:00:00.000Z')"
   ]
  },
  {
   "cell_type": "code",
   "execution_count": 193,
   "metadata": {},
   "outputs": [],
   "source": [
    "def get_splitted_games():\n",
    "    file_name = 'season_games'\n",
    "    input_folder = 'combined_stats'\n",
    "    input_format = 'csv'\n",
    "    df_games = pd.read_csv(\"{}/{}_{}.{}\".format(input_folder, 'combined', file_name, input_format))\n",
    "    df_games_training = pd.read_csv(\"{}/{}_{}.{}\".format(input_folder, 'training', file_name, input_format))\n",
    "    df_games_validation = pd.read_csv(\"{}/{}_{}.{}\".format(input_folder, 'validation', file_name, input_format))\n",
    "    df_games_test = pd.read_csv(\"{}/{}_{}.{}\".format(input_folder, 'test', file_name, input_format))\n",
    "    return df_games, df_games_training, df_games_validation, df_games_test\n",
    "    \n",
    "def generate_data():\n",
    "    df_stats = get_all_stats()\n",
    "    df_games, df_games_training, df_games_validation, df_games_test = get_splitted_games()\n",
    "    \n",
    "    # number of all features from stats\n",
    "    n_features = df_stats.shape[1]\n",
    "    \n",
    "    # stats that aren't used\n",
    "    dropped_features = ['game.awayTeamAbbreviation', 'game.homeTeamAbbreviation', 'game.id', 'game.startTime', 'team.abbreviation', 'team.id']\n",
    "    n_dropped_features = len(dropped_features)\n",
    "    \n",
    "    # number of features\n",
    "    n_features = 2 * (n_features - n_dropped_features)\n",
    "    # number of training, validation, and test samples\n",
    "    n_training = df_games_training.shape[0]\n",
    "    n_validation = df_games_validation.shape[0]\n",
    "    n_test = df_games_test.shape[0]\n",
    "    print('number of features used: ', n_features)\n",
    "    print('number of training samples: ', n_training)\n",
    "    print('number of validation samples: ', n_validation)\n",
    "    print('number of test samples: ', n_test)\n",
    "    \n",
    "    # number of games used to predict\n",
    "    k = 5\n",
    "    \n",
    "    # generate training data\n",
    "    X_train = []\n",
    "    y_train = []\n",
    "    for index, row in df_games_training.iterrows():\n",
    "        # home team and visitor team\n",
    "        Hteam = row['schedule.homeTeam.abbreviation']\n",
    "        Vteam = row['schedule.awayTeam.abbreviation']\n",
    "        game_id = row['schedule.id']\n",
    "        game_time = row['schedule.startTime']\n",
    "\n",
    "        # features of home and vistor teams\n",
    "        home_team_features = []\n",
    "        visitor_team_features = []\n",
    "\n",
    "        '''\n",
    "        # find the stats of home team and visitor team\n",
    "        df_h = df_stats[(df_stats['team.abbreviation'] == Hteam) & (df_stats['game.id'] == game_id)]\n",
    "        df_v = df_stats[(df_stats['team.abbreviation'] == Vteam) & (df_stats['game.id'] == game_id)]\n",
    "        # drop the unused features\n",
    "        df_h = df_h[df_h.columns.drop(dropped_features)]\n",
    "        df_v = df_v[df_v.columns.drop(dropped_features)]\n",
    "        '''\n",
    "        \n",
    "        # find the stats of home team and visitor team and take the mean of the last k games\n",
    "        df_h = df_stats[(df_stats['team.abbreviation'] == Hteam) & (df_stats['game.startTime'] < game_time)].sort_values(by='game.startTime', ascending=False)[:k]\n",
    "        df_v = df_stats[(df_stats['team.abbreviation'] == Vteam) & (df_stats['game.startTime'] < game_time)].sort_values(by='game.startTime', ascending=False)[:k]\n",
    "        # if there's not enough games previously\n",
    "        if df_h.shape[0] < k:\n",
    "            continue\n",
    "        # drop the unused features\n",
    "        df_h = df_h[df_h.columns.drop(dropped_features)]\n",
    "        df_v = df_v[df_v.columns.drop(dropped_features)]\n",
    "        \n",
    "        # take the mean of the last k games\n",
    "        df_h = df_h.mean()\n",
    "        df_v = df_v.mean()\n",
    "        \n",
    "        '''\n",
    "        # add the stats of each team\n",
    "        for key, value in df_h.iloc[0].iteritems():\n",
    "            home_team_features.append(value)\n",
    "        for key, value in df_v.iloc[0].iteritems():\n",
    "            visitor_team_features.append(value)\n",
    "        '''\n",
    "        \n",
    "        # add the stats of each team\n",
    "        for key, value in df_h.iteritems():\n",
    "            home_team_features.append(value)\n",
    "        for key, value in df_v.iteritems():\n",
    "            visitor_team_features.append(value)\n",
    "        # combine the features   \n",
    "        X_train.append(home_team_features + visitor_team_features)\n",
    "\n",
    "        # set the label according to the score\n",
    "        # 1 as the home team wins\n",
    "        # 0 as the home team loses\n",
    "        home_score = df_games_training.iloc[index]['score.homeScoreTotal']\n",
    "        visitor_score = df_games_training.iloc[index]['score.awayScoreTotal']\n",
    "        if home_score > visitor_score:\n",
    "            y_train.append(1)\n",
    "        else:\n",
    "            y_train.append(0)\n",
    "    X_train, y_train = np.nan_to_num(X_train), np.array(y_train)\n",
    "    \n",
    "    # generate validation data\n",
    "    X_val = []\n",
    "    y_val = []\n",
    "    for index, row in df_games_validation.iterrows():\n",
    "        # home team and visitor team\n",
    "        Hteam = row['schedule.homeTeam.abbreviation']\n",
    "        Vteam = row['schedule.awayTeam.abbreviation']\n",
    "        game_id = row['schedule.id']\n",
    "        game_time = row['schedule.startTime']\n",
    "\n",
    "        # features of home and vistor teams\n",
    "        home_team_features = []\n",
    "        visitor_team_features = []\n",
    "\n",
    "        # find the stats of home team and visitor team and take the mean of the last k games\n",
    "        df_h = df_stats[(df_stats['team.abbreviation'] == Hteam) & (df_stats['game.startTime'] < game_time)].sort_values(by='game.startTime', ascending=False)[:k]\n",
    "        df_v = df_stats[(df_stats['team.abbreviation'] == Vteam) & (df_stats['game.startTime'] < game_time)].sort_values(by='game.startTime', ascending=False)[:k]\n",
    "        \n",
    "        # drop the unused features\n",
    "        df_h = df_h[df_h.columns.drop(dropped_features)]\n",
    "        df_v = df_v[df_v.columns.drop(dropped_features)]\n",
    "        \n",
    "        # take the mean of the last k games\n",
    "        df_h = df_h.mean()\n",
    "        df_v = df_v.mean()\n",
    "        \n",
    "        # add the stats of each team\n",
    "        for key, value in df_h.iteritems():\n",
    "            home_team_features.append(value)\n",
    "        for key, value in df_v.iteritems():\n",
    "            visitor_team_features.append(value)\n",
    "        # combine the features   \n",
    "        X_val.append(home_team_features + visitor_team_features)\n",
    "\n",
    "        # set the label according to the score\n",
    "        # 1 as the home team wins\n",
    "        # 0 as the home team loses\n",
    "        home_score = df_games_validation.iloc[index]['score.homeScoreTotal']\n",
    "        visitor_score = df_games_validation.iloc[index]['score.awayScoreTotal']\n",
    "        if home_score > visitor_score:\n",
    "            y_val.append(1)\n",
    "        else:\n",
    "            y_val.append(0)\n",
    "    X_val, y_val = np.nan_to_num(X_val), np.array(y_val)\n",
    "    \n",
    "    # generate test data\n",
    "    X_test = []\n",
    "    y_test = []\n",
    "    for index, row in df_games_test.iterrows():\n",
    "        # home team and visitor team\n",
    "        Hteam = row['schedule.homeTeam.abbreviation']\n",
    "        Vteam = row['schedule.awayTeam.abbreviation']\n",
    "        game_id = row['schedule.id']\n",
    "        game_time = row['schedule.startTime']\n",
    "\n",
    "        # features of home and vistor teams\n",
    "        home_team_features = []\n",
    "        visitor_team_features = []\n",
    "\n",
    "        # find the stats of home team and visitor team and take the mean of the last k games\n",
    "        df_h = df_stats[(df_stats['team.abbreviation'] == Hteam) & (df_stats['game.startTime'] < game_time)].sort_values(by='game.startTime', ascending=False)[:k]\n",
    "        df_v = df_stats[(df_stats['team.abbreviation'] == Vteam) & (df_stats['game.startTime'] < game_time)].sort_values(by='game.startTime', ascending=False)[:k]\n",
    "        \n",
    "        # drop the unused features\n",
    "        df_h = df_h[df_h.columns.drop(dropped_features)]\n",
    "        df_v = df_v[df_v.columns.drop(dropped_features)]\n",
    "        \n",
    "        # take the mean of the last k games\n",
    "        df_h = df_h.mean()\n",
    "        df_v = df_v.mean()\n",
    "        \n",
    "        # add the stats of each team\n",
    "        for key, value in df_h.iteritems():\n",
    "            home_team_features.append(value)\n",
    "        for key, value in df_v.iteritems():\n",
    "            visitor_team_features.append(value)\n",
    "        # combine the features   \n",
    "        X_test.append(home_team_features + visitor_team_features)\n",
    "\n",
    "        # set the label according to the score\n",
    "        # 1 as the home team wins\n",
    "        # 0 as the home team loses\n",
    "        home_score = df_games_test.iloc[index]['score.homeScoreTotal']\n",
    "        visitor_score = df_games_test.iloc[index]['score.awayScoreTotal']\n",
    "        if home_score > visitor_score:\n",
    "            y_test.append(1)\n",
    "        else:\n",
    "            y_test.append(0)\n",
    "    X_test, y_test = np.nan_to_num(X_test), np.array(y_test)\n",
    "    \n",
    "    return X_train, y_train, X_val, y_val, X_test, y_test"
   ]
  },
  {
   "cell_type": "code",
   "execution_count": 194,
   "metadata": {
    "scrolled": true
   },
   "outputs": [
    {
     "name": "stdout",
     "output_type": "stream",
     "text": [
      "number of features used:  76\n",
      "number of training samples:  1442\n",
      "number of validation samples:  106\n",
      "number of test samples:  59\n"
     ]
    }
   ],
   "source": [
    "X_train, y_train, X_val, y_val, X_test, y_test = generate_data()"
   ]
  },
  {
   "cell_type": "code",
   "execution_count": 195,
   "metadata": {},
   "outputs": [
    {
     "name": "stdout",
     "output_type": "stream",
     "text": [
      "(1366, 76) (1366,) (106, 76) (106,) (59, 76) (59,)\n"
     ]
    }
   ],
   "source": [
    "print(X_train.shape, y_train.shape, X_val.shape, y_val.shape, X_test.shape, y_test.shape)"
   ]
  },
  {
   "cell_type": "code",
   "execution_count": 196,
   "metadata": {
    "collapsed": true
   },
   "outputs": [],
   "source": [
    "def save_data(X_train, y_train, X_val, y_val, X_test, y_test):\n",
    "    output_folder = 'combined_stats'\n",
    "    output_format = 'out'\n",
    "    feature = 'feature'\n",
    "    label = 'label'\n",
    "    np.savetxt(\"{}/{}_{}.{}\".format(output_folder, feature, 'training', output_format), X_train)\n",
    "    np.savetxt(\"{}/{}_{}.{}\".format(output_folder, feature, 'validation', output_format), X_val)\n",
    "    np.savetxt(\"{}/{}_{}.{}\".format(output_folder, feature, 'test', output_format), X_test)\n",
    "    np.savetxt(\"{}/{}_{}.{}\".format(output_folder, label, 'training', output_format), y_train)\n",
    "    np.savetxt(\"{}/{}_{}.{}\".format(output_folder, label, 'validation', output_format), y_val)\n",
    "    np.savetxt(\"{}/{}_{}.{}\".format(output_folder, label, 'test', output_format), y_test)\n",
    "    # X_l = np.loadtxt(\"{}/{}_{}.{}\".format(output_folder, feature, 'training', output_format))"
   ]
  },
  {
   "cell_type": "code",
   "execution_count": 197,
   "metadata": {
    "collapsed": true
   },
   "outputs": [],
   "source": [
    "save_data(X_train, y_train, X_val, y_val, X_test, y_test)"
   ]
  },
  {
   "cell_type": "code",
   "execution_count": 189,
   "metadata": {
    "collapsed": true
   },
   "outputs": [],
   "source": [
    "def load_data():\n",
    "    input_folder = 'combined_stats'\n",
    "    input_format = 'out'\n",
    "    feature = 'feature'\n",
    "    label = 'label'\n",
    "    X_train = np.loadtxt(\"{}/{}_{}.{}\".format(input_folder, feature, 'training', input_format))\n",
    "    y_train = np.loadtxt(\"{}/{}_{}.{}\".format(input_folder, label, 'training', input_format))\n",
    "    X_val = np.loadtxt(\"{}/{}_{}.{}\".format(input_folder, feature, 'validation', input_format))\n",
    "    y_val = np.loadtxt(\"{}/{}_{}.{}\".format(input_folder, label, 'validation', input_format))\n",
    "    X_test = np.loadtxt(\"{}/{}_{}.{}\".format(input_folder, feature, 'test', input_format))\n",
    "    y_test = np.loadtxt(\"{}/{}_{}.{}\".format(input_folder, label, 'test', input_format))\n",
    "    return X_train, y_train, X_val, y_val, X_test, y_test"
   ]
  },
  {
   "cell_type": "code",
   "execution_count": null,
   "metadata": {
    "collapsed": true
   },
   "outputs": [],
   "source": []
  }
 ],
 "metadata": {
  "kernelspec": {
   "display_name": "Python 3",
   "language": "python",
   "name": "python3"
  },
  "language_info": {
   "codemirror_mode": {
    "name": "ipython",
    "version": 3
   },
   "file_extension": ".py",
   "mimetype": "text/x-python",
   "name": "python",
   "nbconvert_exporter": "python",
   "pygments_lexer": "ipython3",
   "version": "3.6.3"
  }
 },
 "nbformat": 4,
 "nbformat_minor": 2
}
