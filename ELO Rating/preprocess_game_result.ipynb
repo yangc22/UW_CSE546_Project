{
 "cells": [
  {
   "cell_type": "code",
   "execution_count": 1,
   "metadata": {
    "collapsed": true
   },
   "outputs": [],
   "source": [
    "import pandas as pd"
   ]
  },
  {
   "cell_type": "code",
   "execution_count": 5,
   "metadata": {
    "collapsed": true
   },
   "outputs": [],
   "source": [
    "def transform_result(inputfile_dir, intputfile_name, inputfile_type, outputfile_dir, outputfile_name, season, outputfile_format):\n",
    "    df = pd.read_csv(\"{}/{}.{}\".format(inputfile_dir, intputfile_name, inputfile_type))\n",
    "    wining_team = []\n",
    "    losing_team = []\n",
    "    field = []\n",
    "    for index, row in df.iterrows():\n",
    "        if (row['PTS.1'] > row['PTS']):\n",
    "            wining_team.append(row['Home/Neutral'])\n",
    "            losing_team.append(row['Visitor/Neutral'])\n",
    "            field.append('H')\n",
    "        else:\n",
    "            wining_team.append(row['Visitor/Neutral'])\n",
    "            losing_team.append(row['Home/Neutral'])\n",
    "            field.append('V')\n",
    "    result_df = pd.DataFrame(list(zip(wining_team, losing_team, field)),\n",
    "              columns=['WTeam','LTeam', 'WLoc'])\n",
    "    result_df.to_csv(\"{}/{}_{}.{}\".format(outputfile_dir, outputfile_name, season, outputfile_format), encoding='utf-8', index=False)"
   ]
  },
  {
   "cell_type": "code",
   "execution_count": 7,
   "metadata": {
    "collapsed": true
   },
   "outputs": [],
   "source": [
    "inputfile_dir = '/Users/chaoyiyang/Documents/Course/CSE546-Machine Learning-18Au/Project/Data/UW_CSE546_Project/ELO Rating/dirty_data'\n",
    "intputfile_name = '2018-19_result'\n",
    "inputfile_type = 'csv'\n",
    "outputfile_dir = '/Users/chaoyiyang/Documents/Course/CSE546-Machine Learning-18Au/Project/Data/UW_CSE546_Project/ELO Rating/training_data'\n",
    "outputfile_name = 'result'\n",
    "season = '1819'\n",
    "outputfile_format = 'csv'\n",
    "transform_result(inputfile_dir, intputfile_name, inputfile_type, outputfile_dir, outputfile_name, season, outputfile_format)"
   ]
  },
  {
   "cell_type": "code",
   "execution_count": 8,
   "metadata": {
    "collapsed": true
   },
   "outputs": [],
   "source": [
    "def transform_test_game(inputfile_dir, intputfile_name, inputfile_type, outputfile_dir, outputfile_name, season, outputfile_format):\n",
    "    df = pd.read_csv(\"{}/{}.{}\".format(inputfile_dir, intputfile_name, inputfile_type))\n",
    "    visitor_team = []\n",
    "    home_team = []\n",
    "    for index, row in df.iterrows():\n",
    "        home_team.append(row['Home/Neutral'])\n",
    "        visitor_team.append(row['Visitor/Neutral'])\n",
    "    result_df = pd.DataFrame(list(zip(visitor_team, home_team)),\n",
    "              columns=['VTeam','HTeam'])\n",
    "    result_df.to_csv(\"{}/{}_{}.{}\".format(outputfile_dir, outputfile_name, season, outputfile_format), encoding='utf-8', index=False)"
   ]
  },
  {
   "cell_type": "code",
   "execution_count": 9,
   "metadata": {
    "collapsed": true
   },
   "outputs": [],
   "source": [
    "inputfile_dir = '/Users/chaoyiyang/Documents/Course/CSE546-Machine Learning-18Au/Project/Data/UW_CSE546_Project/ELO Rating/dirty_data'\n",
    "intputfile_name = '18-19_test'\n",
    "inputfile_type = 'csv'\n",
    "outputfile_dir = '/Users/chaoyiyang/Documents/Course/CSE546-Machine Learning-18Au/Project/Data/UW_CSE546_Project/ELO Rating/training_data'\n",
    "outputfile_name = 'test'\n",
    "season = '1819'\n",
    "outputfile_format = 'csv'\n",
    "transform_test_game(inputfile_dir, intputfile_name, inputfile_type, outputfile_dir, outputfile_name, season, outputfile_format)"
   ]
  },
  {
   "cell_type": "code",
   "execution_count": 6,
   "metadata": {
    "collapsed": true
   },
   "outputs": [],
   "source": [
    "import pandas as pd\n",
    "def generate_test_result(inputfile_dir, intputfile_name, inputfile_type, outputfile_dir, outputfile_name, outputfile_format):\n",
    "    df = pd.read_csv(\"{}/{}.{}\".format(inputfile_dir, intputfile_name, inputfile_type))\n",
    "    wining_team = []\n",
    "    for index, row in df.iterrows():\n",
    "        if (row['PTS.1'] > row['PTS']):\n",
    "            wining_team.append(row['Home/Neutral'])\n",
    "        else:\n",
    "            wining_team.append(row['Visitor/Neutral'])\n",
    "    result_df = pd.DataFrame(wining_team,\n",
    "              columns=['WTeam'])\n",
    "    result_df.to_csv(\"{}/{}.{}\".format(outputfile_dir, outputfile_name, outputfile_format), encoding='utf-8', index=False)"
   ]
  },
  {
   "cell_type": "code",
   "execution_count": 7,
   "metadata": {},
   "outputs": [],
   "source": [
    "inputfile_dir = '/Users/chaoyiyang/Documents/Course/CSE546-Machine Learning-18Au/Project/Data/UW_CSE546_Project/ELO Rating/dirty_data'\n",
    "intputfile_name = '18-19_test'\n",
    "inputfile_type = 'csv'\n",
    "outputfile_dir = '/Users/chaoyiyang/Documents/Course/CSE546-Machine Learning-18Au/Project/Data/UW_CSE546_Project/ELO Rating/training_data'\n",
    "outputfile_name = '1819_true_test_result'\n",
    "outputfile_format = 'csv'\n",
    "generate_test_result(inputfile_dir, intputfile_name, inputfile_type, outputfile_dir, outputfile_name, outputfile_format)"
   ]
  },
  {
   "cell_type": "code",
   "execution_count": null,
   "metadata": {
    "collapsed": true
   },
   "outputs": [],
   "source": []
  }
 ],
 "metadata": {
  "kernelspec": {
   "display_name": "Python 3",
   "language": "python",
   "name": "python3"
  },
  "language_info": {
   "codemirror_mode": {
    "name": "ipython",
    "version": 3
   },
   "file_extension": ".py",
   "mimetype": "text/x-python",
   "name": "python",
   "nbconvert_exporter": "python",
   "pygments_lexer": "ipython3",
   "version": "3.6.3"
  }
 },
 "nbformat": 4,
 "nbformat_minor": 2
}
