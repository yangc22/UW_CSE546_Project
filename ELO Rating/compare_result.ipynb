{
 "cells": [
  {
   "cell_type": "code",
   "execution_count": 1,
   "metadata": {
    "collapsed": true
   },
   "outputs": [],
   "source": [
    "import pandas as pd"
   ]
  },
  {
   "cell_type": "code",
   "execution_count": 2,
   "metadata": {
    "collapsed": true
   },
   "outputs": [],
   "source": [
    "folder = '/Users/chaoyiyang/Documents/Course/CSE546-Machine Learning-18Au/Project/Data/UW_CSE546_Project/ELO Rating/training_data'\n",
    "true_result_name = '1819_true_test_result'\n",
    "predict_result_name = '1819_test_Result'\n",
    "file_format = 'csv'\n",
    "df_true = pd.read_csv(\"{}/{}.{}\".format(folder, true_result_name, file_format))\n",
    "df_pred = pd.read_csv(\"{}/{}.{}\".format(folder, predict_result_name, file_format))"
   ]
  },
  {
   "cell_type": "code",
   "execution_count": 3,
   "metadata": {},
   "outputs": [
    {
     "name": "stdout",
     "output_type": "stream",
     "text": [
      "                     WTeam\n",
      "0          Toronto Raptors\n",
      "1          Detroit Pistons\n",
      "2          Houston Rockets\n",
      "3           Boston Celtics\n",
      "4          New York Knicks\n",
      "5         Sacramento Kings\n",
      "6       Washington Wizards\n",
      "7     New Orleans Pelicans\n",
      "8         Dallas Mavericks\n",
      "9       Los Angeles Lakers\n",
      "10              Miami Heat\n",
      "11      Philadelphia 76ers\n",
      "12       San Antonio Spurs\n",
      "13   Golden State Warriors\n",
      "14     Cleveland Cavaliers\n",
      "15   Oklahoma City Thunder\n",
      "16  Minnesota Timberwolves\n",
      "17    Los Angeles Clippers\n",
      "18      Washington Wizards\n",
      "19          Denver Nuggets\n",
      "20        Dallas Mavericks\n",
      "21          Indiana Pacers\n",
      "22           Orlando Magic\n",
      "23        Sacramento Kings\n",
      "24               Utah Jazz\n",
      "25      Washington Wizards\n",
      "26   Oklahoma City Thunder\n",
      "27   Golden State Warriors\n",
      "28      Los Angeles Lakers\n",
      "29       Memphis Grizzlies\n",
      "30         Milwaukee Bucks\n",
      "31  Minnesota Timberwolves\n",
      "32    New Orleans Pelicans\n",
      "33          Denver Nuggets\n",
      "34         Toronto Raptors\n",
      "35          Boston Celtics\n",
      "36  Portland Trail Blazers\n",
      "37               Utah Jazz\n"
     ]
    }
   ],
   "source": [
    "print(df_true)"
   ]
  },
  {
   "cell_type": "code",
   "execution_count": 4,
   "metadata": {},
   "outputs": [
    {
     "name": "stdout",
     "output_type": "stream",
     "text": [
      "                       win                    lose  probability\n",
      "0          Toronto Raptors     Cleveland Cavaliers     0.871755\n",
      "1    Golden State Warriors         Detroit Pistons     0.593831\n",
      "2          Houston Rockets           Chicago Bulls     0.710872\n",
      "3           Boston Celtics  Minnesota Timberwolves     0.540590\n",
      "4          Milwaukee Bucks         New York Knicks     0.820140\n",
      "5           Indiana Pacers        Sacramento Kings     0.522148\n",
      "6       Washington Wizards           Brooklyn Nets     0.565460\n",
      "7        Charlotte Hornets    New Orleans Pelicans     0.531905\n",
      "8     Los Angeles Clippers        Dallas Mavericks     0.616802\n",
      "9       Los Angeles Lakers            Phoenix Suns     0.838396\n",
      "10               Utah Jazz              Miami Heat     0.613884\n",
      "11      Philadelphia 76ers       Memphis Grizzlies     0.583475\n",
      "12  Portland Trail Blazers       San Antonio Spurs     0.615110\n",
      "13   Golden State Warriors           Atlanta Hawks     0.851715\n",
      "14           Brooklyn Nets     Cleveland Cavaliers     0.614081\n",
      "15   Oklahoma City Thunder         Detroit Pistons     0.584209\n",
      "16  Minnesota Timberwolves         Houston Rockets     0.551237\n",
      "17    Los Angeles Clippers    New Orleans Pelicans     0.615963\n",
      "18      Washington Wizards         New York Knicks     0.544588\n",
      "19         Toronto Raptors          Denver Nuggets     0.620985\n",
      "20  Portland Trail Blazers        Dallas Mavericks     0.527496\n",
      "21          Indiana Pacers           Chicago Bulls     0.802187\n",
      "22           Orlando Magic              Miami Heat     0.547729\n",
      "23        Sacramento Kings            Phoenix Suns     0.747331\n",
      "24               Utah Jazz       San Antonio Spurs     0.620766\n",
      "25      Washington Wizards           Atlanta Hawks     0.686485\n",
      "26   Oklahoma City Thunder           Brooklyn Nets     0.743034\n",
      "27   Golden State Warriors     Cleveland Cavaliers     0.813508\n",
      "28      Los Angeles Lakers       San Antonio Spurs     0.690021\n",
      "29    Los Angeles Clippers       Memphis Grizzlies     0.566445\n",
      "30         Milwaukee Bucks         Detroit Pistons     0.708665\n",
      "31  Minnesota Timberwolves       Charlotte Hornets     0.536153\n",
      "32        Dallas Mavericks    New Orleans Pelicans     0.507898\n",
      "33          Denver Nuggets           Orlando Magic     0.676676\n",
      "34         Toronto Raptors      Philadelphia 76ers     0.659385\n",
      "35          Boston Celtics         New York Knicks     0.754118\n",
      "36  Portland Trail Blazers            Phoenix Suns     0.825222\n",
      "37               Utah Jazz         Houston Rockets     0.545527\n"
     ]
    }
   ],
   "source": [
    "print(df_pred)"
   ]
  },
  {
   "cell_type": "code",
   "execution_count": 5,
   "metadata": {
    "collapsed": true
   },
   "outputs": [],
   "source": [
    "true_wining_team = df_true['WTeam'].tolist()\n",
    "pred_wining_team = df_pred['win'].tolist()"
   ]
  },
  {
   "cell_type": "code",
   "execution_count": 6,
   "metadata": {
    "collapsed": true
   },
   "outputs": [],
   "source": [
    "result_df = pd.DataFrame(list(zip(true_wining_team, pred_wining_team)),\n",
    "              columns=['True WTeam','Pred WTeam'])"
   ]
  },
  {
   "cell_type": "code",
   "execution_count": 7,
   "metadata": {},
   "outputs": [
    {
     "name": "stdout",
     "output_type": "stream",
     "text": [
      "                True WTeam              Pred WTeam\n",
      "0          Toronto Raptors         Toronto Raptors\n",
      "1          Detroit Pistons   Golden State Warriors\n",
      "2          Houston Rockets         Houston Rockets\n",
      "3           Boston Celtics          Boston Celtics\n",
      "4          New York Knicks         Milwaukee Bucks\n",
      "5         Sacramento Kings          Indiana Pacers\n",
      "6       Washington Wizards      Washington Wizards\n",
      "7     New Orleans Pelicans       Charlotte Hornets\n",
      "8         Dallas Mavericks    Los Angeles Clippers\n",
      "9       Los Angeles Lakers      Los Angeles Lakers\n",
      "10              Miami Heat               Utah Jazz\n",
      "11      Philadelphia 76ers      Philadelphia 76ers\n",
      "12       San Antonio Spurs  Portland Trail Blazers\n",
      "13   Golden State Warriors   Golden State Warriors\n",
      "14     Cleveland Cavaliers           Brooklyn Nets\n",
      "15   Oklahoma City Thunder   Oklahoma City Thunder\n",
      "16  Minnesota Timberwolves  Minnesota Timberwolves\n",
      "17    Los Angeles Clippers    Los Angeles Clippers\n",
      "18      Washington Wizards      Washington Wizards\n",
      "19          Denver Nuggets         Toronto Raptors\n",
      "20        Dallas Mavericks  Portland Trail Blazers\n",
      "21          Indiana Pacers          Indiana Pacers\n",
      "22           Orlando Magic           Orlando Magic\n",
      "23        Sacramento Kings        Sacramento Kings\n",
      "24               Utah Jazz               Utah Jazz\n",
      "25      Washington Wizards      Washington Wizards\n",
      "26   Oklahoma City Thunder   Oklahoma City Thunder\n",
      "27   Golden State Warriors   Golden State Warriors\n",
      "28      Los Angeles Lakers      Los Angeles Lakers\n",
      "29       Memphis Grizzlies    Los Angeles Clippers\n",
      "30         Milwaukee Bucks         Milwaukee Bucks\n",
      "31  Minnesota Timberwolves  Minnesota Timberwolves\n",
      "32    New Orleans Pelicans        Dallas Mavericks\n",
      "33          Denver Nuggets          Denver Nuggets\n",
      "34         Toronto Raptors         Toronto Raptors\n",
      "35          Boston Celtics          Boston Celtics\n",
      "36  Portland Trail Blazers  Portland Trail Blazers\n",
      "37               Utah Jazz               Utah Jazz\n"
     ]
    }
   ],
   "source": [
    "print(result_df)"
   ]
  },
  {
   "cell_type": "code",
   "execution_count": 11,
   "metadata": {},
   "outputs": [
    {
     "name": "stdout",
     "output_type": "stream",
     "text": [
      "38 12 0.6842105263157895\n"
     ]
    }
   ],
   "source": [
    "preds = 0\n",
    "wrong_preds = 0\n",
    "for index, row in result_df.iterrows():\n",
    "    preds += 1\n",
    "    if (row['True WTeam'] != row['Pred WTeam']):\n",
    "        wrong_preds += 1\n",
    "print(preds, wrong_preds, 1 - wrong_preds / preds)"
   ]
  },
  {
   "cell_type": "code",
   "execution_count": 12,
   "metadata": {},
   "outputs": [
    {
     "name": "stdout",
     "output_type": "stream",
     "text": [
      "[1, 0, 1, 1, 0, 0, 1, 0, 0, 1, 0, 1, 0, 1, 0, 1, 1, 1, 1, 0, 0, 1, 1, 1, 1, 1, 1, 1, 1, 0, 1, 1, 0, 1, 1, 1, 1, 1]\n"
     ]
    }
   ],
   "source": [
    "y_true = []\n",
    "y_pred = []\n",
    "for index, row in df_pred.iterrows():\n",
    "    y_pred.append(row['probability'])\n",
    "    if row['win'] == df_true.loc[index]['WTeam']:\n",
    "        y_true.append(1)\n",
    "    else:\n",
    "        y_true.append(0)\n",
    "print(y_true)"
   ]
  },
  {
   "cell_type": "code",
   "execution_count": 14,
   "metadata": {},
   "outputs": [
    {
     "name": "stdout",
     "output_type": "stream",
     "text": [
      "0.8568552523929098\n"
     ]
    }
   ],
   "source": [
    "from sklearn.metrics import average_precision_score\n",
    "import numpy as np\n",
    "y_true = np.asarray(y_true)\n",
    "y_pred = np.array(y_pred)\n",
    "ap = average_precision_score(y_true, y_pred)\n",
    "print(ap)"
   ]
  },
  {
   "cell_type": "code",
   "execution_count": 17,
   "metadata": {},
   "outputs": [
    {
     "name": "stdout",
     "output_type": "stream",
     "text": [
      "1.0\n"
     ]
    }
   ],
   "source": [
    "y_true1 = []\n",
    "y_pred1 = []\n",
    "for index, row in df_pred.iterrows():\n",
    "    if row['win'] == df_true.loc[index]['WTeam']:\n",
    "        y_true1.append(1)\n",
    "        y_pred1.append(row['probability'])\n",
    "y_true1 = np.asarray(y_true1)\n",
    "y_pred1 = np.array(y_pred1)\n",
    "ap1 = average_precision_score(y_true1, y_pred1)\n",
    "print(ap1)"
   ]
  },
  {
   "cell_type": "code",
   "execution_count": null,
   "metadata": {
    "collapsed": true
   },
   "outputs": [],
   "source": []
  }
 ],
 "metadata": {
  "kernelspec": {
   "display_name": "Python 3",
   "language": "python",
   "name": "python3"
  },
  "language_info": {
   "codemirror_mode": {
    "name": "ipython",
    "version": 3
   },
   "file_extension": ".py",
   "mimetype": "text/x-python",
   "name": "python",
   "nbconvert_exporter": "python",
   "pygments_lexer": "ipython3",
   "version": "3.6.3"
  }
 },
 "nbformat": 4,
 "nbformat_minor": 2
}
