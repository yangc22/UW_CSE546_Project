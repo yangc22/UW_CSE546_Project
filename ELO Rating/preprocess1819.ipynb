{
 "cells": [
  {
   "cell_type": "code",
   "execution_count": 1,
   "metadata": {
    "collapsed": true
   },
   "outputs": [],
   "source": [
    "import pandas as pd"
   ]
  },
  {
   "cell_type": "code",
   "execution_count": 4,
   "metadata": {},
   "outputs": [],
   "source": [
    "df = pd.read_csv('Schedule1819.csv')"
   ]
  },
  {
   "cell_type": "code",
   "execution_count": 5,
   "metadata": {},
   "outputs": [
    {
     "name": "stdout",
     "output_type": "stream",
     "text": [
      "                Date Start (ET)         Visitor/Neutral    PTS  \\\n",
      "0    Tue Oct 16 2018      8:00p      Philadelphia 76ers   87.0   \n",
      "1    Tue Oct 16 2018     10:30p   Oklahoma City Thunder  100.0   \n",
      "2    Wed Oct 17 2018      7:00p         Milwaukee Bucks  113.0   \n",
      "3    Wed Oct 17 2018      7:00p           Brooklyn Nets  100.0   \n",
      "4    Wed Oct 17 2018      8:00p    New Orleans Pelicans  131.0   \n",
      "5    Wed Oct 17 2018      7:00p       Memphis Grizzlies   83.0   \n",
      "6    Wed Oct 17 2018     10:30p          Denver Nuggets  107.0   \n",
      "7    Wed Oct 17 2018      7:30p           Atlanta Hawks  107.0   \n",
      "8    Wed Oct 17 2018      7:00p              Miami Heat  101.0   \n",
      "9    Wed Oct 17 2018     10:30p        Dallas Mavericks  100.0   \n",
      "10   Wed Oct 17 2018     10:00p               Utah Jazz  123.0   \n",
      "11   Wed Oct 17 2018      8:30p  Minnesota Timberwolves  108.0   \n",
      "12   Wed Oct 17 2018      7:30p     Cleveland Cavaliers  104.0   \n",
      "13   Thu Oct 18 2018      8:00p           Chicago Bulls  108.0   \n",
      "14   Thu Oct 18 2018     10:30p      Los Angeles Lakers  119.0   \n",
      "15   Thu Oct 18 2018      8:00p              Miami Heat  113.0   \n",
      "16   Fri Oct 19 2018      7:30p         New York Knicks  105.0   \n",
      "17   Fri Oct 19 2018     10:30p   Oklahoma City Thunder   92.0   \n",
      "18   Fri Oct 19 2018      8:00p           Atlanta Hawks  117.0   \n",
      "19   Fri Oct 19 2018      8:30p          Indiana Pacers  101.0   \n",
      "20   Fri Oct 19 2018      8:00p     Cleveland Cavaliers  123.0   \n",
      "21   Fri Oct 19 2018      8:00p        Sacramento Kings  129.0   \n",
      "22   Fri Oct 19 2018      7:00p       Charlotte Hornets  120.0   \n",
      "23   Fri Oct 19 2018      8:00p          Boston Celtics  101.0   \n",
      "24   Fri Oct 19 2018     10:30p   Golden State Warriors  124.0   \n",
      "25   Sat Oct 20 2018      8:00p         Detroit Pistons  118.0   \n",
      "26   Sat Oct 20 2018      8:30p  Minnesota Timberwolves  136.0   \n",
      "27   Sat Oct 20 2018      9:00p            Phoenix Suns   91.0   \n",
      "28   Sat Oct 20 2018      7:00p           Brooklyn Nets  112.0   \n",
      "29   Sat Oct 20 2018     10:30p         Houston Rockets  124.0   \n",
      "..               ...        ...                     ...    ...   \n",
      "299  Mon Nov 26 2018      7:00p         Houston Rockets    NaN   \n",
      "300  Tue Nov 27 2018      9:00p      Los Angeles Lakers    NaN   \n",
      "301  Tue Nov 27 2018      7:00p         New York Knicks    NaN   \n",
      "302  Tue Nov 27 2018      8:00p         Toronto Raptors    NaN   \n",
      "303  Tue Nov 27 2018      7:30p           Atlanta Hawks    NaN   \n",
      "304  Tue Nov 27 2018      9:00p          Indiana Pacers    NaN   \n",
      "305  Wed Nov 28 2018      7:30p               Utah Jazz    NaN   \n",
      "306  Wed Nov 28 2018      7:00p           Atlanta Hawks    NaN   \n",
      "307  Wed Nov 28 2018      8:00p        Dallas Mavericks    NaN   \n",
      "308  Wed Nov 28 2018     10:30p            Phoenix Suns    NaN   \n",
      "309  Wed Nov 28 2018      8:00p           Chicago Bulls    NaN   \n",
      "310  Wed Nov 28 2018      8:00p       San Antonio Spurs    NaN   \n",
      "311  Wed Nov 28 2018      8:00p      Washington Wizards    NaN   \n",
      "312  Wed Nov 28 2018      8:00p     Cleveland Cavaliers    NaN   \n",
      "313  Wed Nov 28 2018      7:00p         New York Knicks    NaN   \n",
      "314  Wed Nov 28 2018     10:00p           Orlando Magic    NaN   \n",
      "315  Thu Nov 29 2018     10:30p          Indiana Pacers    NaN   \n",
      "316  Thu Nov 29 2018     10:30p    Los Angeles Clippers    NaN   \n",
      "317  Thu Nov 29 2018      8:00p   Golden State Warriors    NaN   \n",
      "318  Fri Nov 30 2018      7:00p     Cleveland Cavaliers    NaN   \n",
      "319  Fri Nov 30 2018      7:30p       Memphis Grizzlies    NaN   \n",
      "320  Fri Nov 30 2018      7:00p               Utah Jazz    NaN   \n",
      "321  Fri Nov 30 2018      7:00p           Chicago Bulls    NaN   \n",
      "322  Fri Nov 30 2018     10:30p        Dallas Mavericks    NaN   \n",
      "323  Fri Nov 30 2018      8:00p    New Orleans Pelicans    NaN   \n",
      "324  Fri Nov 30 2018      8:00p           Atlanta Hawks    NaN   \n",
      "325  Fri Nov 30 2018      7:00p      Washington Wizards    NaN   \n",
      "326  Fri Nov 30 2018      9:00p           Orlando Magic    NaN   \n",
      "327  Fri Nov 30 2018     10:30p          Denver Nuggets    NaN   \n",
      "328  Fri Nov 30 2018      8:00p         Houston Rockets    NaN   \n",
      "\n",
      "               Home/Neutral  PTS.1 Unnamed: 6 Unnamed: 7  Attend.  Notes  \n",
      "0            Boston Celtics  105.0  Box Score        NaN  18624.0    NaN  \n",
      "1     Golden State Warriors  108.0  Box Score        NaN  19596.0    NaN  \n",
      "2         Charlotte Hornets  112.0  Box Score        NaN  17889.0    NaN  \n",
      "3           Detroit Pistons  103.0  Box Score        NaN  20332.0    NaN  \n",
      "4           Houston Rockets  112.0  Box Score        NaN  18055.0    NaN  \n",
      "5            Indiana Pacers  111.0  Box Score        NaN  17923.0    NaN  \n",
      "6      Los Angeles Clippers   98.0  Box Score        NaN  19068.0    NaN  \n",
      "7           New York Knicks  126.0  Box Score        NaN  18249.0    NaN  \n",
      "8             Orlando Magic  104.0  Box Score        NaN  19191.0    NaN  \n",
      "9              Phoenix Suns  121.0  Box Score        NaN  18055.0    NaN  \n",
      "10         Sacramento Kings  117.0  Box Score        NaN  17583.0    NaN  \n",
      "11        San Antonio Spurs  112.0  Box Score        NaN  18354.0    NaN  \n",
      "12          Toronto Raptors  116.0  Box Score        NaN  19915.0    NaN  \n",
      "13       Philadelphia 76ers  127.0  Box Score        NaN  20302.0    NaN  \n",
      "14   Portland Trail Blazers  128.0  Box Score        NaN  19996.0    NaN  \n",
      "15       Washington Wizards  112.0  Box Score        NaN  20409.0    NaN  \n",
      "16            Brooklyn Nets  107.0  Box Score        NaN  17732.0    NaN  \n",
      "17     Los Angeles Clippers  108.0  Box Score        NaN  14816.0    NaN  \n",
      "18        Memphis Grizzlies  131.0  Box Score        NaN  17019.0    NaN  \n",
      "19          Milwaukee Bucks  118.0  Box Score        NaN  17341.0    NaN  \n",
      "20   Minnesota Timberwolves  131.0  Box Score        NaN  18978.0    NaN  \n",
      "21     New Orleans Pelicans  149.0  Box Score        NaN  18337.0    NaN  \n",
      "22            Orlando Magic   88.0  Box Score        NaN  17668.0    NaN  \n",
      "23          Toronto Raptors  113.0  Box Score        NaN  19800.0    NaN  \n",
      "24                Utah Jazz  123.0  Box Score        NaN  18306.0    NaN  \n",
      "25            Chicago Bulls  116.0  Box Score        NaN  21289.0    NaN  \n",
      "26         Dallas Mavericks  140.0  Box Score        NaN  20205.0    NaN  \n",
      "27           Denver Nuggets  119.0  Box Score        NaN  19592.0    NaN  \n",
      "28           Indiana Pacers  132.0  Box Score        NaN  17007.0    NaN  \n",
      "29       Los Angeles Lakers  115.0  Box Score        NaN  18997.0    NaN  \n",
      "..                      ...    ...        ...        ...      ...    ...  \n",
      "299      Washington Wizards    NaN        NaN        NaN      NaN    NaN  \n",
      "300          Denver Nuggets    NaN        NaN        NaN      NaN    NaN  \n",
      "301         Detroit Pistons    NaN        NaN        NaN      NaN    NaN  \n",
      "302       Memphis Grizzlies    NaN        NaN        NaN      NaN    NaN  \n",
      "303              Miami Heat    NaN        NaN        NaN      NaN    NaN  \n",
      "304            Phoenix Suns    NaN        NaN        NaN      NaN    NaN  \n",
      "305           Brooklyn Nets    NaN        NaN        NaN      NaN    NaN  \n",
      "306       Charlotte Hornets    NaN        NaN        NaN      NaN    NaN  \n",
      "307         Houston Rockets    NaN        NaN        NaN      NaN    NaN  \n",
      "308    Los Angeles Clippers    NaN        NaN        NaN      NaN    NaN  \n",
      "309         Milwaukee Bucks    NaN        NaN        NaN      NaN    NaN  \n",
      "310  Minnesota Timberwolves    NaN        NaN        NaN      NaN    NaN  \n",
      "311    New Orleans Pelicans    NaN        NaN        NaN      NaN    NaN  \n",
      "312   Oklahoma City Thunder    NaN        NaN        NaN      NaN    NaN  \n",
      "313      Philadelphia 76ers    NaN        NaN        NaN      NaN    NaN  \n",
      "314  Portland Trail Blazers    NaN        NaN        NaN      NaN    NaN  \n",
      "315      Los Angeles Lakers    NaN        NaN        NaN      NaN    NaN  \n",
      "316        Sacramento Kings    NaN        NaN        NaN      NaN    NaN  \n",
      "317         Toronto Raptors    NaN        NaN        NaN      NaN    NaN  \n",
      "318          Boston Celtics    NaN        NaN        NaN      NaN    NaN  \n",
      "319           Brooklyn Nets    NaN        NaN        NaN      NaN    NaN  \n",
      "320       Charlotte Hornets    NaN        NaN        NaN      NaN    NaN  \n",
      "321         Detroit Pistons    NaN        NaN        NaN      NaN    NaN  \n",
      "322      Los Angeles Lakers    NaN        NaN        NaN      NaN    NaN  \n",
      "323              Miami Heat    NaN        NaN        NaN      NaN    NaN  \n",
      "324   Oklahoma City Thunder    NaN        NaN        NaN      NaN    NaN  \n",
      "325      Philadelphia 76ers    NaN        NaN        NaN      NaN    NaN  \n",
      "326            Phoenix Suns    NaN        NaN        NaN      NaN    NaN  \n",
      "327  Portland Trail Blazers    NaN        NaN        NaN      NaN    NaN  \n",
      "328       San Antonio Spurs    NaN        NaN        NaN      NaN    NaN  \n",
      "\n",
      "[329 rows x 10 columns]\n"
     ]
    }
   ],
   "source": [
    "print(df)"
   ]
  },
  {
   "cell_type": "code",
   "execution_count": 6,
   "metadata": {
    "collapsed": true
   },
   "outputs": [],
   "source": [
    "visitor_team = []\n",
    "home_team = []\n",
    "for index, row in df.iterrows():\n",
    "    home_team.append(row['Home/Neutral'])\n",
    "    visitor_team.append(row['Visitor/Neutral'])"
   ]
  },
  {
   "cell_type": "code",
   "execution_count": 7,
   "metadata": {
    "collapsed": true
   },
   "outputs": [],
   "source": [
    "schedule_df = pd.DataFrame(list(zip(visitor_team, home_team)),\n",
    "              columns=['VTeam','HTeam'])"
   ]
  },
  {
   "cell_type": "code",
   "execution_count": 8,
   "metadata": {},
   "outputs": [
    {
     "name": "stdout",
     "output_type": "stream",
     "text": [
      "                      VTeam                   HTeam\n",
      "0        Philadelphia 76ers          Boston Celtics\n",
      "1     Oklahoma City Thunder   Golden State Warriors\n",
      "2           Milwaukee Bucks       Charlotte Hornets\n",
      "3             Brooklyn Nets         Detroit Pistons\n",
      "4      New Orleans Pelicans         Houston Rockets\n",
      "5         Memphis Grizzlies          Indiana Pacers\n",
      "6            Denver Nuggets    Los Angeles Clippers\n",
      "7             Atlanta Hawks         New York Knicks\n",
      "8                Miami Heat           Orlando Magic\n",
      "9          Dallas Mavericks            Phoenix Suns\n",
      "10                Utah Jazz        Sacramento Kings\n",
      "11   Minnesota Timberwolves       San Antonio Spurs\n",
      "12      Cleveland Cavaliers         Toronto Raptors\n",
      "13            Chicago Bulls      Philadelphia 76ers\n",
      "14       Los Angeles Lakers  Portland Trail Blazers\n",
      "15               Miami Heat      Washington Wizards\n",
      "16          New York Knicks           Brooklyn Nets\n",
      "17    Oklahoma City Thunder    Los Angeles Clippers\n",
      "18            Atlanta Hawks       Memphis Grizzlies\n",
      "19           Indiana Pacers         Milwaukee Bucks\n",
      "20      Cleveland Cavaliers  Minnesota Timberwolves\n",
      "21         Sacramento Kings    New Orleans Pelicans\n",
      "22        Charlotte Hornets           Orlando Magic\n",
      "23           Boston Celtics         Toronto Raptors\n",
      "24    Golden State Warriors               Utah Jazz\n",
      "25          Detroit Pistons           Chicago Bulls\n",
      "26   Minnesota Timberwolves        Dallas Mavericks\n",
      "27             Phoenix Suns          Denver Nuggets\n",
      "28            Brooklyn Nets          Indiana Pacers\n",
      "29          Houston Rockets      Los Angeles Lakers\n",
      "..                      ...                     ...\n",
      "299         Houston Rockets      Washington Wizards\n",
      "300      Los Angeles Lakers          Denver Nuggets\n",
      "301         New York Knicks         Detroit Pistons\n",
      "302         Toronto Raptors       Memphis Grizzlies\n",
      "303           Atlanta Hawks              Miami Heat\n",
      "304          Indiana Pacers            Phoenix Suns\n",
      "305               Utah Jazz           Brooklyn Nets\n",
      "306           Atlanta Hawks       Charlotte Hornets\n",
      "307        Dallas Mavericks         Houston Rockets\n",
      "308            Phoenix Suns    Los Angeles Clippers\n",
      "309           Chicago Bulls         Milwaukee Bucks\n",
      "310       San Antonio Spurs  Minnesota Timberwolves\n",
      "311      Washington Wizards    New Orleans Pelicans\n",
      "312     Cleveland Cavaliers   Oklahoma City Thunder\n",
      "313         New York Knicks      Philadelphia 76ers\n",
      "314           Orlando Magic  Portland Trail Blazers\n",
      "315          Indiana Pacers      Los Angeles Lakers\n",
      "316    Los Angeles Clippers        Sacramento Kings\n",
      "317   Golden State Warriors         Toronto Raptors\n",
      "318     Cleveland Cavaliers          Boston Celtics\n",
      "319       Memphis Grizzlies           Brooklyn Nets\n",
      "320               Utah Jazz       Charlotte Hornets\n",
      "321           Chicago Bulls         Detroit Pistons\n",
      "322        Dallas Mavericks      Los Angeles Lakers\n",
      "323    New Orleans Pelicans              Miami Heat\n",
      "324           Atlanta Hawks   Oklahoma City Thunder\n",
      "325      Washington Wizards      Philadelphia 76ers\n",
      "326           Orlando Magic            Phoenix Suns\n",
      "327          Denver Nuggets  Portland Trail Blazers\n",
      "328         Houston Rockets       San Antonio Spurs\n",
      "\n",
      "[329 rows x 2 columns]\n"
     ]
    }
   ],
   "source": [
    "print(schedule_df)"
   ]
  },
  {
   "cell_type": "code",
   "execution_count": null,
   "metadata": {
    "collapsed": true
   },
   "outputs": [],
   "source": [
    "schedule_df.to_csv('2018-19Schedule.csv', encoding='utf-8', index=False)"
   ]
  }
 ],
 "metadata": {
  "kernelspec": {
   "display_name": "Python 3",
   "language": "python",
   "name": "python3"
  },
  "language_info": {
   "codemirror_mode": {
    "name": "ipython",
    "version": 3
   },
   "file_extension": ".py",
   "mimetype": "text/x-python",
   "name": "python",
   "nbconvert_exporter": "python",
   "pygments_lexer": "ipython3",
   "version": "3.6.3"
  }
 },
 "nbformat": 4,
 "nbformat_minor": 2
}
