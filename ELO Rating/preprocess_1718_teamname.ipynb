{
 "cells": [
  {
   "cell_type": "code",
   "execution_count": 1,
   "metadata": {
    "collapsed": true
   },
   "outputs": [],
   "source": [
    "import pandas as pd"
   ]
  },
  {
   "cell_type": "code",
   "execution_count": 26,
   "metadata": {
    "collapsed": true
   },
   "outputs": [],
   "source": [
    "dir = '/Users/chaoyiyang/Documents/Course/CSE546-Machine Learning-18Au/Project/UW_CSE546_Project/ELO Rating/training_data'\n",
    "file = 'TeamPerGameStats'\n",
    "file_format = 'csv'\n",
    "df = pd.read_csv(\"{}/{}.{}\".format(dir, file, file_format))"
   ]
  },
  {
   "cell_type": "code",
   "execution_count": 27,
   "metadata": {},
   "outputs": [
    {
     "name": "stdout",
     "output_type": "stream",
     "text": [
      "['Rk', 'Team', 'G', 'MP', 'FG', 'FGA', 'FG%', '3P', '3PA', '3P%', '2P', '2PA', '2P%', 'FT', 'FTA', 'FT%', 'ORB', 'DRB', 'TRB', 'AST', 'STL', 'BLK', 'TOV', 'PF', 'PTS']\n"
     ]
    }
   ],
   "source": [
    "print(df.columns.values.tolist())"
   ]
  },
  {
   "cell_type": "code",
   "execution_count": 29,
   "metadata": {
    "collapsed": true
   },
   "outputs": [],
   "source": [
    "identifier = '*'\n",
    "for index, row in df.iterrows():\n",
    "    # df.set_value(index,'Team',row['Team'] + '*')\n",
    "    df.set_value(index,'Team', \"{}{}\".format(row['Team'], '*'))"
   ]
  },
  {
   "cell_type": "code",
   "execution_count": 34,
   "metadata": {
    "collapsed": true
   },
   "outputs": [],
   "source": [
    "season = '1718'\n",
    "df.to_csv(\"{}/{}_{}.{}\".format(dir, file, season, file_format), encoding='utf-8', index=False)"
   ]
  },
  {
   "cell_type": "code",
   "execution_count": 35,
   "metadata": {
    "collapsed": true
   },
   "outputs": [],
   "source": [
    "# add a * to team name for stats in 17-18 season\n",
    "def add_star(dir, file, file_format, season, identifier):\n",
    "    df = pd.read_csv(\"{}/{}.{}\".format(dir, file, file_format))\n",
    "    for index, row in df.iterrows():\n",
    "    # df.set_value(index,'Team',row['Team'] + '*')\n",
    "        df.set_value(index,'Team', \"{}{}\".format(row['Team'], identifier))\n",
    "    df.to_csv(\"{}/{}_{}.{}\".format(dir, file, season, file_format), encoding='utf-8', index=False)"
   ]
  },
  {
   "cell_type": "code",
   "execution_count": 36,
   "metadata": {
    "collapsed": true
   },
   "outputs": [],
   "source": [
    "dir = '/Users/chaoyiyang/Documents/Course/CSE546-Machine Learning-18Au/Project/Data/UW_CSE546_Project/ELO Rating/training_data'\n",
    "files = ['TeamPerGameStats', 'OpponentPerGameStats', 'MiscellaneousStats']\n",
    "file_format = 'csv'\n",
    "season = '1718'\n",
    "identifier = '*'\n",
    "for file in files:\n",
    "    add_star(dir, file, file_format, season, identifier)"
   ]
  },
  {
   "cell_type": "code",
   "execution_count": 105,
   "metadata": {
    "collapsed": true
   },
   "outputs": [],
   "source": [
    "def process_schedule(dir, inputfile, outputfile, file_format, season, identifier):\n",
    "    df = pd.read_csv(\"{}/{}.{}\".format(dir, inputfile, file_format))\n",
    "    wining_team = []\n",
    "    losing_team = []\n",
    "    field = []\n",
    "    for index, row in df.iterrows():\n",
    "        if (row['PTS.1'] > row['PTS']):\n",
    "            wining_team.append(\"{}{}\".format(row['Home/Neutral'], identifier))\n",
    "            losing_team.append(\"{}{}\".format(row['Visitor/Neutral'], identifier))\n",
    "            field.append('H')\n",
    "        else:\n",
    "            wining_team.append(\"{}{}\".format(row['Visitor/Neutral'], identifier))\n",
    "            losing_team.append(\"{}{}\".format(row['Home/Neutral'], identifier))\n",
    "            field.append('V')\n",
    "    result_df = pd.DataFrame(list(zip(wining_team, losing_team, field)),\n",
    "              columns=['WTeam','LTeam', 'WLoc'])\n",
    "    result_df.to_csv(\"{}/{}_{}.{}\".format(dir, outputfile, season, file_format), encoding='utf-8', index=False)"
   ]
  },
  {
   "cell_type": "code",
   "execution_count": 106,
   "metadata": {
    "collapsed": true
   },
   "outputs": [],
   "source": [
    "dir = '/Users/chaoyiyang/Documents/Course/CSE546-Machine Learning-18Au/Project/Data/UW_CSE546_Project/ELO Rating/training_data'\n",
    "inputfile = 'Schedule1718'\n",
    "outputfile = 'result'\n",
    "file_format = 'csv'\n",
    "season = '1718'\n",
    "identifier = '*'\n",
    "process_schedule(dir, inputfile, outputfile, file_format, season, identifier)"
   ]
  },
  {
   "cell_type": "code",
   "execution_count": 72,
   "metadata": {
    "collapsed": true
   },
   "outputs": [],
   "source": [
    "df = pd.read_csv('training_data/OpponentPerGameStats_new.csv')"
   ]
  },
  {
   "cell_type": "code",
   "execution_count": 73,
   "metadata": {
    "collapsed": true
   },
   "outputs": [],
   "source": [
    "from decimal import Decimal\n",
    "for index, row in df.iterrows():\n",
    "    # df.set_value(index,'Team',row['Team'] + '*')\n",
    "    df.set_value(index,'PTS', Decimal(row['PTS'].split('\\\\')[0]))"
   ]
  },
  {
   "cell_type": "code",
   "execution_count": 94,
   "metadata": {
    "collapsed": true
   },
   "outputs": [],
   "source": [
    "df.to_csv('training_data/MiscellaneousStats_new.csv', encoding='utf-8', index=False)"
   ]
  },
  {
   "cell_type": "code",
   "execution_count": 99,
   "metadata": {},
   "outputs": [
    {
     "ename": "AttributeError",
     "evalue": "'int' object has no attribute 'split'",
     "output_type": "error",
     "traceback": [
      "\u001b[0;31m---------------------------------------------------------------------------\u001b[0m",
      "\u001b[0;31mAttributeError\u001b[0m                            Traceback (most recent call last)",
      "\u001b[0;32m<ipython-input-99-239f1b84acc2>\u001b[0m in \u001b[0;36m<module>\u001b[0;34m()\u001b[0m\n\u001b[1;32m      2\u001b[0m \u001b[0;32mfor\u001b[0m \u001b[0mindex\u001b[0m\u001b[0;34m,\u001b[0m \u001b[0mrow\u001b[0m \u001b[0;32min\u001b[0m \u001b[0mdf\u001b[0m\u001b[0;34m.\u001b[0m\u001b[0miterrows\u001b[0m\u001b[0;34m(\u001b[0m\u001b[0;34m)\u001b[0m\u001b[0;34m:\u001b[0m\u001b[0;34m\u001b[0m\u001b[0m\n\u001b[1;32m      3\u001b[0m     \u001b[0;31m# df.set_value(index,'Team',row['Team'] + '*')\u001b[0m\u001b[0;34m\u001b[0m\u001b[0;34m\u001b[0m\u001b[0m\n\u001b[0;32m----> 4\u001b[0;31m     \u001b[0mdf\u001b[0m\u001b[0;34m.\u001b[0m\u001b[0mset_value\u001b[0m\u001b[0;34m(\u001b[0m\u001b[0mindex\u001b[0m\u001b[0;34m,\u001b[0m\u001b[0;34m'Attend./G'\u001b[0m\u001b[0;34m,\u001b[0m \u001b[0mDecimal\u001b[0m\u001b[0;34m(\u001b[0m\u001b[0mrow\u001b[0m\u001b[0;34m[\u001b[0m\u001b[0;34m'Attend./G'\u001b[0m\u001b[0;34m]\u001b[0m\u001b[0;34m.\u001b[0m\u001b[0msplit\u001b[0m\u001b[0;34m(\u001b[0m\u001b[0;34m'\\\\'\u001b[0m\u001b[0;34m)\u001b[0m\u001b[0;34m[\u001b[0m\u001b[0;36m0\u001b[0m\u001b[0;34m]\u001b[0m\u001b[0;34m)\u001b[0m\u001b[0;34m)\u001b[0m\u001b[0;34m\u001b[0m\u001b[0m\n\u001b[0m\u001b[1;32m      5\u001b[0m     \u001b[0mdf\u001b[0m\u001b[0;34m.\u001b[0m\u001b[0mdrop\u001b[0m\u001b[0;34m(\u001b[0m\u001b[0;34m'PTS'\u001b[0m\u001b[0;34m)\u001b[0m\u001b[0;34m\u001b[0m\u001b[0m\n\u001b[1;32m      6\u001b[0m \u001b[0mdf\u001b[0m\u001b[0;34m.\u001b[0m\u001b[0mto_csv\u001b[0m\u001b[0;34m(\u001b[0m\u001b[0;34m'training_data/MiscellaneousStats_new.csv'\u001b[0m\u001b[0;34m,\u001b[0m \u001b[0mencoding\u001b[0m\u001b[0;34m=\u001b[0m\u001b[0;34m'utf-8'\u001b[0m\u001b[0;34m,\u001b[0m \u001b[0mindex\u001b[0m\u001b[0;34m=\u001b[0m\u001b[0;32mFalse\u001b[0m\u001b[0;34m)\u001b[0m\u001b[0;34m\u001b[0m\u001b[0m\n",
      "\u001b[0;31mAttributeError\u001b[0m: 'int' object has no attribute 'split'"
     ]
    }
   ],
   "source": [
    "df = pd.read_csv('training_data/MiscellaneousStats_new.csv')\n",
    "for index, row in df.iterrows():\n",
    "    # df.set_value(index,'Team',row['Team'] + '*')\n",
    "    df.set_value(index,'Attend./G', Decimal(row['Attend./G'].split('\\\\')[0]))\n",
    "df.to_csv('training_data/MiscellaneousStats_new.csv', encoding='utf-8', index=False)"
   ]
  },
  {
   "cell_type": "code",
   "execution_count": 104,
   "metadata": {
    "collapsed": true
   },
   "outputs": [],
   "source": [
    "df = pd.read_csv('training_data/MiscellaneousStats_new.csv')\n",
    "del df['PTS']\n",
    "df.to_csv('training_data/MiscellaneousStats_new.csv', encoding='utf-8', index=False)"
   ]
  },
  {
   "cell_type": "code",
   "execution_count": null,
   "metadata": {
    "collapsed": true
   },
   "outputs": [],
   "source": []
  }
 ],
 "metadata": {
  "kernelspec": {
   "display_name": "Python 3",
   "language": "python",
   "name": "python3"
  },
  "language_info": {
   "codemirror_mode": {
    "name": "ipython",
    "version": 3
   },
   "file_extension": ".py",
   "mimetype": "text/x-python",
   "name": "python",
   "nbconvert_exporter": "python",
   "pygments_lexer": "ipython3",
   "version": "3.6.3"
  }
 },
 "nbformat": 4,
 "nbformat_minor": 2
}
